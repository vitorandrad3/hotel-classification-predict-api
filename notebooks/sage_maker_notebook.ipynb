{
 "cells": [
  {
   "cell_type": "markdown",
   "id": "e7ad1073-3443-4b4b-bd66-cbd30647f579",
   "metadata": {},
   "source": [
    "# Format Dataset"
   ]
  },
  {
   "cell_type": "code",
   "execution_count": 33,
   "id": "d51d81a2-112e-4c47-8493-72d1750fe701",
   "metadata": {
    "tags": []
   },
   "outputs": [],
   "source": [
    "import pandas as pd\n",
    "import numpy as np\n",
    "import matplotlib.pyplot as plt\n",
    "import seaborn as sns"
   ]
  },
  {
   "cell_type": "code",
   "execution_count": 34,
   "id": "75d18d48-c74e-4fbd-88f7-3746118bbcdf",
   "metadata": {
    "tags": []
   },
   "outputs": [],
   "source": [
    "df_encoded = pd.read_csv(\"./Hotel_Reservations.csv\")"
   ]
  },
  {
   "cell_type": "code",
   "execution_count": 35,
   "id": "20bb15b7-c35d-4a1a-85f1-bd5e9730c74e",
   "metadata": {
    "tags": []
   },
   "outputs": [],
   "source": [
    "df_encoded.drop('Booking_ID', axis=1, inplace=True)"
   ]
  },
  {
   "cell_type": "code",
   "execution_count": 36,
   "id": "f13755d0-5678-4ec7-a84b-e527a816b2ab",
   "metadata": {
    "tags": []
   },
   "outputs": [],
   "source": [
    "def def_label(price):\n",
    "    if price <= 85:\n",
    "        return 1\n",
    "    elif price >85 and price <= 115:\n",
    "        return 2\n",
    "    elif price > 115:\n",
    "        return 3"
   ]
  },
  {
   "cell_type": "code",
   "execution_count": 37,
   "id": "7ce9e70e-9b06-4895-a687-8112075babc0",
   "metadata": {
    "tags": []
   },
   "outputs": [],
   "source": [
    "df_encoded['label_avg_price_per_room'] = df_encoded['avg_price_per_room'].apply(def_label)"
   ]
  },
  {
   "cell_type": "code",
   "execution_count": 38,
   "id": "3a44498d-08d9-4e10-8e01-bc06c629c3dc",
   "metadata": {
    "tags": []
   },
   "outputs": [],
   "source": [
    "df_encoded.drop('avg_price_per_room', axis=1, inplace=True)"
   ]
  },
  {
   "cell_type": "code",
   "execution_count": 39,
   "id": "06689076-3242-4127-b4f0-1ba061538d1c",
   "metadata": {},
   "outputs": [],
   "source": [
    "df_encoded = pd.get_dummies(df_encoded, columns=['type_of_meal_plan', 'room_type_reserved', 'market_segment_type','booking_status'])"
   ]
  },
  {
   "cell_type": "code",
   "execution_count": 40,
   "id": "807f4948-de53-46bc-8ad1-b7e264d63fe7",
   "metadata": {
    "tags": []
   },
   "outputs": [
    {
     "data": {
      "text/plain": [
       "Index(['no_of_adults', 'no_of_children', 'no_of_weekend_nights',\n",
       "       'no_of_week_nights', 'required_car_parking_space', 'lead_time',\n",
       "       'arrival_year', 'arrival_month', 'arrival_date', 'repeated_guest',\n",
       "       'no_of_previous_cancellations', 'no_of_previous_bookings_not_canceled',\n",
       "       'no_of_special_requests', 'label_avg_price_per_room',\n",
       "       'type_of_meal_plan_Meal Plan 1', 'type_of_meal_plan_Meal Plan 2',\n",
       "       'type_of_meal_plan_Meal Plan 3', 'type_of_meal_plan_Not Selected',\n",
       "       'room_type_reserved_Room_Type 1', 'room_type_reserved_Room_Type 2',\n",
       "       'room_type_reserved_Room_Type 3', 'room_type_reserved_Room_Type 4',\n",
       "       'room_type_reserved_Room_Type 5', 'room_type_reserved_Room_Type 6',\n",
       "       'room_type_reserved_Room_Type 7', 'market_segment_type_Aviation',\n",
       "       'market_segment_type_Complementary', 'market_segment_type_Corporate',\n",
       "       'market_segment_type_Offline', 'market_segment_type_Online',\n",
       "       'booking_status_Canceled', 'booking_status_Not_Canceled'],\n",
       "      dtype='object')"
      ]
     },
     "execution_count": 40,
     "metadata": {},
     "output_type": "execute_result"
    }
   ],
   "source": [
    "df_encoded.columns"
   ]
  },
  {
   "cell_type": "code",
   "execution_count": 41,
   "id": "43c704a1-acf8-4f13-ad94-4810fbcd0692",
   "metadata": {
    "tags": []
   },
   "outputs": [],
   "source": [
    "X= df_encoded.drop('label_avg_price_per_room', axis= 1)"
   ]
  },
  {
   "cell_type": "code",
   "execution_count": 42,
   "id": "3e083faf-d60b-4c17-b0ba-09a8a678252b",
   "metadata": {
    "tags": []
   },
   "outputs": [],
   "source": [
    "Y= df_encoded['label_avg_price_per_room']"
   ]
  },
  {
   "cell_type": "code",
   "execution_count": 43,
   "id": "e13b0a33-7bb7-46b1-961c-8de9e3cb1e84",
   "metadata": {
    "tags": []
   },
   "outputs": [],
   "source": [
    "X = np.array(X).astype('int')\n",
    "Y = np.array(Y).astype('int')"
   ]
  },
  {
   "cell_type": "code",
   "execution_count": 44,
   "id": "dd57b43c-d617-460f-a76b-c382a0159e97",
   "metadata": {
    "tags": []
   },
   "outputs": [],
   "source": [
    "from sklearn.model_selection import train_test_split"
   ]
  },
  {
   "cell_type": "code",
   "execution_count": 45,
   "id": "1d0ae6d2-3d35-479f-a354-c042da5d041e",
   "metadata": {
    "tags": []
   },
   "outputs": [],
   "source": [
    "x_train, x_test, y_train, y_test = train_test_split(X,Y, test_size= 0.3, random_state=True)"
   ]
  },
  {
   "cell_type": "code",
   "execution_count": 46,
   "id": "37dd1993-97c4-4bb9-bdca-b207997f9e36",
   "metadata": {},
   "outputs": [],
   "source": [
    "from sklearn.preprocessing import LabelEncoder\n",
    "\n",
    "le = LabelEncoder()\n",
    "y_train = le.fit_transform(y_train)\n",
    "y_test = le.fit_transform(y_test)"
   ]
  },
  {
   "cell_type": "code",
   "execution_count": 47,
   "id": "a31f0d2b-7609-4f61-9ce8-6348871e4694",
   "metadata": {},
   "outputs": [],
   "source": [
    "train_base = np.hstack(( y_train.reshape(-1, 1),x_train))\n",
    "test_base = np.hstack(( y_test.reshape(-1, 1),x_test))"
   ]
  },
  {
   "cell_type": "code",
   "execution_count": 48,
   "id": "9d316e45-594b-4339-98df-0e186e7d62ab",
   "metadata": {
    "tags": []
   },
   "outputs": [],
   "source": [
    "np.savetxt('train_base.csv', train_base, delimiter=',')\n",
    "np.savetxt('test_base.csv', test_base, delimiter=',')"
   ]
  },
  {
   "cell_type": "code",
   "execution_count": 49,
   "id": "4315a92f-7819-4e14-aad5-4587de8e9e36",
   "metadata": {
    "tags": []
   },
   "outputs": [
    {
     "data": {
      "text/plain": [
       "array([[1, 1, 0, ..., 0, 1, 0],\n",
       "       [0, 2, 0, ..., 1, 0, 1],\n",
       "       [0, 2, 0, ..., 0, 0, 1],\n",
       "       ...,\n",
       "       [2, 1, 0, ..., 1, 1, 0],\n",
       "       [2, 2, 2, ..., 1, 0, 1],\n",
       "       [1, 2, 0, ..., 1, 1, 0]])"
      ]
     },
     "execution_count": 49,
     "metadata": {},
     "output_type": "execute_result"
    }
   ],
   "source": [
    "train_base"
   ]
  },
  {
   "cell_type": "markdown",
   "id": "8343f58e-8621-4a80-81de-495639973bbc",
   "metadata": {},
   "source": [
    "# Config AWS SageMaker"
   ]
  },
  {
   "cell_type": "code",
   "execution_count": 50,
   "id": "e95babe8-db50-4df0-a560-1e49362ef3f1",
   "metadata": {
    "tags": []
   },
   "outputs": [],
   "source": [
    "import sagemaker\n",
    "import boto3\n",
    "from sagemaker import Session\n",
    "import sagemaker.amazon.common as smac\n",
    "import io\n",
    "import os"
   ]
  },
  {
   "cell_type": "code",
   "execution_count": 51,
   "id": "9a5d2b11-c8cb-41d5-bd30-587ea82d9c06",
   "metadata": {
    "tags": []
   },
   "outputs": [
    {
     "name": "stdout",
     "output_type": "stream",
     "text": [
      "sagemaker.config INFO - Not applying SDK defaults from location: /etc/xdg/sagemaker/config.yaml\n",
      "sagemaker.config INFO - Not applying SDK defaults from location: /root/.config/sagemaker/config.yaml\n",
      "sagemaker.config INFO - Not applying SDK defaults from location: /etc/xdg/sagemaker/config.yaml\n",
      "sagemaker.config INFO - Not applying SDK defaults from location: /root/.config/sagemaker/config.yaml\n"
     ]
    }
   ],
   "source": [
    "session       = sagemaker.Session()\n",
    "bucket        = 'sprint05-project'\n",
    "layer_model   = 'models/xgboost'\n",
    "layer_dataset = 'datasets/xgboost'\n",
    "key_train     = 'sprint05-project-xgb-train-data'\n",
    "key_test      = 'sprint05-project-xgb-test-data'\n",
    "role          = sagemaker.get_execution_role()\n",
    "s3_train_data = 's3://{}/{}/train/{}'.format(bucket, layer_dataset, key_train) \n",
    "s3_test_data = 's3://{}/{}/test/{}'.format(bucket, layer_dataset, key_test) \n",
    "output_lction = 's3://{}/{}/output'.format(bucket, layer_model)"
   ]
  },
  {
   "cell_type": "code",
   "execution_count": 52,
   "id": "984280ee-fdb2-4691-baa0-11a70be928c2",
   "metadata": {
    "tags": []
   },
   "outputs": [],
   "source": [
    "with open('train_base.csv', 'rb') as f:\n",
    "    boto3.Session().resource('s3').Bucket(bucket).Object(os.path.join(layer_dataset, 'train', key_train)).upload_fileobj(f)"
   ]
  },
  {
   "cell_type": "code",
   "execution_count": 53,
   "id": "9f31b426-9cda-40ff-bb63-42c077935783",
   "metadata": {
    "tags": []
   },
   "outputs": [],
   "source": [
    "with open('test_base.csv', 'rb') as f:\n",
    "    boto3.Session().resource('s3').Bucket(bucket).Object(os.path.join(layer_dataset, 'test', key_test)).upload_fileobj(f)"
   ]
  },
  {
   "cell_type": "markdown",
   "id": "d875d8c2-3149-4ebc-a98d-3636cea37be4",
   "metadata": {},
   "source": [
    "# Model Training"
   ]
  },
  {
   "cell_type": "code",
   "execution_count": 54,
   "id": "31f38a9f-ce54-4c2b-8b0a-4de96adf5c4e",
   "metadata": {
    "tags": []
   },
   "outputs": [],
   "source": [
    "from sagemaker import image_uris\n",
    "container = sagemaker.image_uris.retrieve(framework = 'xgboost', region=boto3.Session().region_name, version='latest')"
   ]
  },
  {
   "cell_type": "code",
   "execution_count": 55,
   "id": "fb91b5b0-5fef-43ec-a2bc-445ebf5d08b5",
   "metadata": {
    "tags": []
   },
   "outputs": [],
   "source": [
    "xgboost = sagemaker.estimator.Estimator(image_uri     = container,\n",
    "                                       role           = role,\n",
    "                                       instance_count = 1,\n",
    "                                       instance_type  = 'ml.m5.2xlarge',\n",
    "                                       output_path    = output_lction,\n",
    "                                       sagemaker_session = session,\n",
    "                                       use_stop_instances = True)"
   ]
  },
  {
   "cell_type": "code",
   "execution_count": 56,
   "id": "ef01baed-df15-4d0d-8f7b-22af4140aa77",
   "metadata": {
    "tags": []
   },
   "outputs": [],
   "source": [
    "xgboost.set_hyperparameters(objective = 'multi:softmax', num_class = 3, num_round = 100, max_depth=72)"
   ]
  },
  {
   "cell_type": "code",
   "execution_count": 57,
   "id": "b49c3f25-832a-43ec-8716-ca20ef3460cc",
   "metadata": {
    "tags": []
   },
   "outputs": [],
   "source": [
    "train_input = sagemaker.inputs.TrainingInput(s3_data = s3_train_data, content_type='csv', s3_data_type = 'S3Prefix')\n",
    "validation_input = sagemaker.inputs.TrainingInput(s3_data = s3_test_data, content_type='csv', s3_data_type = 'S3Prefix')\n",
    "data_channels = {'train': train_input, 'validation': validation_input}"
   ]
  },
  {
   "cell_type": "code",
   "execution_count": 58,
   "id": "64adc7b2-95e5-45d2-a095-a05d990e44af",
   "metadata": {
    "tags": []
   },
   "outputs": [
    {
     "name": "stderr",
     "output_type": "stream",
     "text": [
      "INFO:sagemaker:Creating training-job with name: xgboost-2023-09-13-20-06-38-703\n"
     ]
    },
    {
     "name": "stdout",
     "output_type": "stream",
     "text": [
      "2023-09-13 20:06:38 Starting - Starting the training job...\n",
      "2023-09-13 20:06:56 Starting - Preparing the instances for training......\n",
      "2023-09-13 20:07:57 Downloading - Downloading input data...\n",
      "2023-09-13 20:08:32 Training - Training image download completed. Training in progress...\u001b[34mArguments: train\u001b[0m\n",
      "\u001b[34m[2023-09-13:20:08:54:INFO] Running standalone xgboost training.\u001b[0m\n",
      "\u001b[34m[2023-09-13:20:08:54:INFO] File size need to be processed in the node: 27.68mb. Available memory size in the node: 23627.5mb\u001b[0m\n",
      "\u001b[34m[2023-09-13:20:08:54:INFO] Determined delimiter of CSV input is ','\u001b[0m\n",
      "\u001b[34m[20:08:54] S3DistributionType set as FullyReplicated\u001b[0m\n",
      "\u001b[34m[20:08:54] 25392x31 matrix with 787152 entries loaded from /opt/ml/input/data/train?format=csv&label_column=0&delimiter=,\u001b[0m\n",
      "\u001b[34m[2023-09-13:20:08:54:INFO] Determined delimiter of CSV input is ','\u001b[0m\n",
      "\u001b[34m[20:08:54] S3DistributionType set as FullyReplicated\u001b[0m\n",
      "\u001b[34m[20:08:54] 10883x31 matrix with 337373 entries loaded from /opt/ml/input/data/validation?format=csv&label_column=0&delimiter=,\u001b[0m\n",
      "\u001b[34m[20:08:54] src/tree/updater_prune.cc:74: tree pruning end, 1 roots, 2748 extra nodes, 0 pruned nodes, max_depth=25\u001b[0m\n",
      "\u001b[34m[20:08:54] src/tree/updater_prune.cc:74: tree pruning end, 1 roots, 4202 extra nodes, 0 pruned nodes, max_depth=28\u001b[0m\n",
      "\u001b[34m[20:08:54] src/tree/updater_prune.cc:74: tree pruning end, 1 roots, 2288 extra nodes, 0 pruned nodes, max_depth=25\u001b[0m\n",
      "\u001b[34m[0]#011train-merror:0.068171#011validation-merror:0.161353\u001b[0m\n",
      "\u001b[34m[20:08:54] src/tree/updater_prune.cc:74: tree pruning end, 1 roots, 2936 extra nodes, 0 pruned nodes, max_depth=24\u001b[0m\n",
      "\u001b[34m[20:08:54] src/tree/updater_prune.cc:74: tree pruning end, 1 roots, 4470 extra nodes, 0 pruned nodes, max_depth=26\u001b[0m\n",
      "\u001b[34m[20:08:55] src/tree/updater_prune.cc:74: tree pruning end, 1 roots, 2510 extra nodes, 0 pruned nodes, max_depth=25\u001b[0m\n",
      "\u001b[34m[1]#011train-merror:0.053639#011validation-merror:0.155288\u001b[0m\n",
      "\u001b[34m[20:08:55] src/tree/updater_prune.cc:74: tree pruning end, 1 roots, 3056 extra nodes, 0 pruned nodes, max_depth=26\u001b[0m\n",
      "\u001b[34m[20:08:55] src/tree/updater_prune.cc:74: tree pruning end, 1 roots, 4746 extra nodes, 0 pruned nodes, max_depth=27\u001b[0m\n",
      "\u001b[34m[20:08:55] src/tree/updater_prune.cc:74: tree pruning end, 1 roots, 2642 extra nodes, 0 pruned nodes, max_depth=25\u001b[0m\n",
      "\u001b[34m[2]#011train-merror:0.044266#011validation-merror:0.151888\u001b[0m\n",
      "\u001b[34m[20:08:55] src/tree/updater_prune.cc:74: tree pruning end, 1 roots, 3166 extra nodes, 0 pruned nodes, max_depth=25\u001b[0m\n",
      "\u001b[34m[20:08:55] src/tree/updater_prune.cc:74: tree pruning end, 1 roots, 4900 extra nodes, 0 pruned nodes, max_depth=26\u001b[0m\n",
      "\u001b[34m[20:08:55] src/tree/updater_prune.cc:74: tree pruning end, 1 roots, 2790 extra nodes, 0 pruned nodes, max_depth=24\u001b[0m\n",
      "\u001b[34m[3]#011train-merror:0.037768#011validation-merror:0.149499\u001b[0m\n",
      "\u001b[34m[20:08:55] src/tree/updater_prune.cc:74: tree pruning end, 1 roots, 3202 extra nodes, 0 pruned nodes, max_depth=27\u001b[0m\n",
      "\u001b[34m[20:08:55] src/tree/updater_prune.cc:74: tree pruning end, 1 roots, 4928 extra nodes, 0 pruned nodes, max_depth=27\u001b[0m\n",
      "\u001b[34m[20:08:55] src/tree/updater_prune.cc:74: tree pruning end, 1 roots, 2852 extra nodes, 0 pruned nodes, max_depth=24\u001b[0m\n",
      "\u001b[34m[4]#011train-merror:0.031939#011validation-merror:0.147661\u001b[0m\n",
      "\u001b[34m[20:08:55] src/tree/updater_prune.cc:74: tree pruning end, 1 roots, 3154 extra nodes, 0 pruned nodes, max_depth=24\u001b[0m\n",
      "\u001b[34m[20:08:55] src/tree/updater_prune.cc:74: tree pruning end, 1 roots, 4888 extra nodes, 0 pruned nodes, max_depth=30\u001b[0m\n",
      "\u001b[34m[20:08:55] src/tree/updater_prune.cc:74: tree pruning end, 1 roots, 2878 extra nodes, 0 pruned nodes, max_depth=26\u001b[0m\n",
      "\u001b[34m[5]#011train-merror:0.026465#011validation-merror:0.143435\u001b[0m\n",
      "\u001b[34m[20:08:55] src/tree/updater_prune.cc:74: tree pruning end, 1 roots, 3118 extra nodes, 0 pruned nodes, max_depth=25\u001b[0m\n",
      "\u001b[34m[20:08:55] src/tree/updater_prune.cc:74: tree pruning end, 1 roots, 4570 extra nodes, 0 pruned nodes, max_depth=35\u001b[0m\n",
      "\u001b[34m[20:08:55] src/tree/updater_prune.cc:74: tree pruning end, 1 roots, 2816 extra nodes, 0 pruned nodes, max_depth=26\u001b[0m\n",
      "\u001b[34m[6]#011train-merror:0.022094#011validation-merror:0.140219\u001b[0m\n",
      "\u001b[34m[20:08:55] src/tree/updater_prune.cc:74: tree pruning end, 1 roots, 3142 extra nodes, 0 pruned nodes, max_depth=27\u001b[0m\n",
      "\u001b[34m[20:08:55] src/tree/updater_prune.cc:74: tree pruning end, 1 roots, 4392 extra nodes, 0 pruned nodes, max_depth=36\u001b[0m\n",
      "\u001b[34m[20:08:55] src/tree/updater_prune.cc:74: tree pruning end, 1 roots, 2766 extra nodes, 0 pruned nodes, max_depth=27\u001b[0m\n",
      "\u001b[34m[7]#011train-merror:0.018273#011validation-merror:0.138473\u001b[0m\n",
      "\u001b[34m[20:08:55] src/tree/updater_prune.cc:74: tree pruning end, 1 roots, 3026 extra nodes, 0 pruned nodes, max_depth=25\u001b[0m\n",
      "\u001b[34m[20:08:55] src/tree/updater_prune.cc:74: tree pruning end, 1 roots, 4318 extra nodes, 0 pruned nodes, max_depth=37\u001b[0m\n",
      "\u001b[34m[20:08:55] src/tree/updater_prune.cc:74: tree pruning end, 1 roots, 2682 extra nodes, 0 pruned nodes, max_depth=26\u001b[0m\n",
      "\u001b[34m[8]#011train-merror:0.015083#011validation-merror:0.137186\u001b[0m\n",
      "\u001b[34m[20:08:55] src/tree/updater_prune.cc:74: tree pruning end, 1 roots, 2872 extra nodes, 0 pruned nodes, max_depth=25\u001b[0m\n",
      "\u001b[34m[20:08:55] src/tree/updater_prune.cc:74: tree pruning end, 1 roots, 4074 extra nodes, 0 pruned nodes, max_depth=38\u001b[0m\n",
      "\u001b[34m[20:08:55] src/tree/updater_prune.cc:74: tree pruning end, 1 roots, 2516 extra nodes, 0 pruned nodes, max_depth=25\u001b[0m\n",
      "\u001b[34m[9]#011train-merror:0.011933#011validation-merror:0.134889\u001b[0m\n",
      "\u001b[34m[20:08:56] src/tree/updater_prune.cc:74: tree pruning end, 1 roots, 2652 extra nodes, 0 pruned nodes, max_depth=30\u001b[0m\n",
      "\u001b[34m[20:08:56] src/tree/updater_prune.cc:74: tree pruning end, 1 roots, 3768 extra nodes, 0 pruned nodes, max_depth=35\u001b[0m\n",
      "\u001b[34m[20:08:56] src/tree/updater_prune.cc:74: tree pruning end, 1 roots, 2374 extra nodes, 0 pruned nodes, max_depth=27\u001b[0m\n",
      "\u001b[34m[10]#011train-merror:0.009491#011validation-merror:0.135349\u001b[0m\n",
      "\u001b[34m[20:08:56] src/tree/updater_prune.cc:74: tree pruning end, 1 roots, 2526 extra nodes, 0 pruned nodes, max_depth=27\u001b[0m\n",
      "\u001b[34m[20:08:56] src/tree/updater_prune.cc:74: tree pruning end, 1 roots, 3672 extra nodes, 0 pruned nodes, max_depth=40\u001b[0m\n",
      "\u001b[34m[20:08:56] src/tree/updater_prune.cc:74: tree pruning end, 1 roots, 2316 extra nodes, 0 pruned nodes, max_depth=24\u001b[0m\n",
      "\u001b[34m[11]#011train-merror:0.00768#011validation-merror:0.135532\u001b[0m\n",
      "\u001b[34m[20:08:56] src/tree/updater_prune.cc:74: tree pruning end, 1 roots, 2458 extra nodes, 0 pruned nodes, max_depth=27\u001b[0m\n",
      "\u001b[34m[20:08:56] src/tree/updater_prune.cc:74: tree pruning end, 1 roots, 3456 extra nodes, 0 pruned nodes, max_depth=39\u001b[0m\n",
      "\u001b[34m[20:08:56] src/tree/updater_prune.cc:74: tree pruning end, 1 roots, 2164 extra nodes, 0 pruned nodes, max_depth=30\u001b[0m\n",
      "\u001b[34m[12]#011train-merror:0.006459#011validation-merror:0.134522\u001b[0m\n",
      "\u001b[34m[20:08:56] src/tree/updater_prune.cc:74: tree pruning end, 1 roots, 2260 extra nodes, 0 pruned nodes, max_depth=27\u001b[0m\n",
      "\u001b[34m[20:08:56] src/tree/updater_prune.cc:74: tree pruning end, 1 roots, 3222 extra nodes, 0 pruned nodes, max_depth=36\u001b[0m\n",
      "\u001b[34m[20:08:56] src/tree/updater_prune.cc:74: tree pruning end, 1 roots, 2030 extra nodes, 0 pruned nodes, max_depth=27\u001b[0m\n",
      "\u001b[34m[13]#011train-merror:0.005632#011validation-merror:0.13443\u001b[0m\n",
      "\u001b[34m[20:08:56] src/tree/updater_prune.cc:74: tree pruning end, 1 roots, 2238 extra nodes, 0 pruned nodes, max_depth=27\u001b[0m\n",
      "\u001b[34m[20:08:56] src/tree/updater_prune.cc:74: tree pruning end, 1 roots, 3046 extra nodes, 0 pruned nodes, max_depth=31\u001b[0m\n",
      "\u001b[34m[20:08:56] src/tree/updater_prune.cc:74: tree pruning end, 1 roots, 1898 extra nodes, 0 pruned nodes, max_depth=25\u001b[0m\n",
      "\u001b[34m[14]#011train-merror:0.005159#011validation-merror:0.132684\u001b[0m\n",
      "\u001b[34m[20:08:56] src/tree/updater_prune.cc:74: tree pruning end, 1 roots, 2124 extra nodes, 0 pruned nodes, max_depth=26\u001b[0m\n",
      "\u001b[34m[20:08:56] src/tree/updater_prune.cc:74: tree pruning end, 1 roots, 2812 extra nodes, 0 pruned nodes, max_depth=38\u001b[0m\n",
      "\u001b[34m[20:08:56] src/tree/updater_prune.cc:74: tree pruning end, 1 roots, 1856 extra nodes, 0 pruned nodes, max_depth=25\u001b[0m\n",
      "\u001b[34m[15]#011train-merror:0.004805#011validation-merror:0.133603\u001b[0m\n",
      "\u001b[34m[20:08:56] src/tree/updater_prune.cc:74: tree pruning end, 1 roots, 1988 extra nodes, 0 pruned nodes, max_depth=28\u001b[0m\n",
      "\u001b[34m[20:08:57] src/tree/updater_prune.cc:74: tree pruning end, 1 roots, 2732 extra nodes, 0 pruned nodes, max_depth=40\u001b[0m\n",
      "\u001b[34m[20:08:57] src/tree/updater_prune.cc:74: tree pruning end, 1 roots, 1690 extra nodes, 0 pruned nodes, max_depth=34\u001b[0m\n",
      "\u001b[34m[16]#011train-merror:0.00449#011validation-merror:0.13397\u001b[0m\n",
      "\u001b[34m[20:08:57] src/tree/updater_prune.cc:74: tree pruning end, 1 roots, 1908 extra nodes, 0 pruned nodes, max_depth=27\u001b[0m\n",
      "\u001b[34m[20:08:57] src/tree/updater_prune.cc:74: tree pruning end, 1 roots, 2620 extra nodes, 0 pruned nodes, max_depth=39\u001b[0m\n",
      "\u001b[34m[20:08:57] src/tree/updater_prune.cc:74: tree pruning end, 1 roots, 1660 extra nodes, 0 pruned nodes, max_depth=26\u001b[0m\n",
      "\u001b[34m[17]#011train-merror:0.004253#011validation-merror:0.133603\u001b[0m\n",
      "\u001b[34m[20:08:57] src/tree/updater_prune.cc:74: tree pruning end, 1 roots, 1760 extra nodes, 0 pruned nodes, max_depth=26\u001b[0m\n",
      "\u001b[34m[20:08:57] src/tree/updater_prune.cc:74: tree pruning end, 1 roots, 2486 extra nodes, 0 pruned nodes, max_depth=40\u001b[0m\n",
      "\u001b[34m[20:08:57] src/tree/updater_prune.cc:74: tree pruning end, 1 roots, 1570 extra nodes, 0 pruned nodes, max_depth=29\u001b[0m\n",
      "\u001b[34m[18]#011train-merror:0.004017#011validation-merror:0.132408\u001b[0m\n",
      "\u001b[34m[20:08:57] src/tree/updater_prune.cc:74: tree pruning end, 1 roots, 1750 extra nodes, 0 pruned nodes, max_depth=26\u001b[0m\n",
      "\u001b[34m[20:08:57] src/tree/updater_prune.cc:74: tree pruning end, 1 roots, 2388 extra nodes, 0 pruned nodes, max_depth=33\u001b[0m\n",
      "\u001b[34m[20:08:57] src/tree/updater_prune.cc:74: tree pruning end, 1 roots, 1540 extra nodes, 0 pruned nodes, max_depth=31\u001b[0m\n",
      "\u001b[34m[19]#011train-merror:0.003859#011validation-merror:0.131489\u001b[0m\n",
      "\u001b[34m[20:08:57] src/tree/updater_prune.cc:74: tree pruning end, 1 roots, 1692 extra nodes, 0 pruned nodes, max_depth=27\u001b[0m\n",
      "\u001b[34m[20:08:57] src/tree/updater_prune.cc:74: tree pruning end, 1 roots, 2290 extra nodes, 0 pruned nodes, max_depth=38\u001b[0m\n",
      "\u001b[34m[20:08:57] src/tree/updater_prune.cc:74: tree pruning end, 1 roots, 1458 extra nodes, 0 pruned nodes, max_depth=27\u001b[0m\n",
      "\u001b[34m[20]#011train-merror:0.003663#011validation-merror:0.131122\u001b[0m\n",
      "\u001b[34m[20:08:57] src/tree/updater_prune.cc:74: tree pruning end, 1 roots, 1548 extra nodes, 0 pruned nodes, max_depth=36\u001b[0m\n",
      "\u001b[34m[20:08:57] src/tree/updater_prune.cc:74: tree pruning end, 1 roots, 2134 extra nodes, 0 pruned nodes, max_depth=47\u001b[0m\n",
      "\u001b[34m[20:08:57] src/tree/updater_prune.cc:74: tree pruning end, 1 roots, 1336 extra nodes, 0 pruned nodes, max_depth=27\u001b[0m\n",
      "\u001b[34m[21]#011train-merror:0.003623#011validation-merror:0.131489\u001b[0m\n",
      "\u001b[34m[20:08:57] src/tree/updater_prune.cc:74: tree pruning end, 1 roots, 1508 extra nodes, 0 pruned nodes, max_depth=30\u001b[0m\n",
      "\u001b[34m[20:08:57] src/tree/updater_prune.cc:74: tree pruning end, 1 roots, 2102 extra nodes, 0 pruned nodes, max_depth=44\u001b[0m\n",
      "\u001b[34m[20:08:57] src/tree/updater_prune.cc:74: tree pruning end, 1 roots, 1296 extra nodes, 0 pruned nodes, max_depth=25\u001b[0m\n",
      "\u001b[34m[22]#011train-merror:0.003505#011validation-merror:0.131489\u001b[0m\n",
      "\u001b[34m[20:08:57] src/tree/updater_prune.cc:74: tree pruning end, 1 roots, 1442 extra nodes, 0 pruned nodes, max_depth=30\u001b[0m\n",
      "\u001b[34m[20:08:58] src/tree/updater_prune.cc:74: tree pruning end, 1 roots, 2046 extra nodes, 0 pruned nodes, max_depth=62\u001b[0m\n",
      "\u001b[34m[20:08:58] src/tree/updater_prune.cc:74: tree pruning end, 1 roots, 1242 extra nodes, 0 pruned nodes, max_depth=25\u001b[0m\n",
      "\u001b[34m[23]#011train-merror:0.003466#011validation-merror:0.131949\u001b[0m\n",
      "\u001b[34m[20:08:58] src/tree/updater_prune.cc:74: tree pruning end, 1 roots, 1376 extra nodes, 0 pruned nodes, max_depth=28\u001b[0m\n",
      "\u001b[34m[20:08:58] src/tree/updater_prune.cc:74: tree pruning end, 1 roots, 1934 extra nodes, 0 pruned nodes, max_depth=50\u001b[0m\n",
      "\u001b[34m[20:08:58] src/tree/updater_prune.cc:74: tree pruning end, 1 roots, 1174 extra nodes, 0 pruned nodes, max_depth=28\u001b[0m\n",
      "\u001b[34m[24]#011train-merror:0.003466#011validation-merror:0.131306\u001b[0m\n",
      "\u001b[34m[20:08:58] src/tree/updater_prune.cc:74: tree pruning end, 1 roots, 1338 extra nodes, 0 pruned nodes, max_depth=27\u001b[0m\n",
      "\u001b[34m[20:08:58] src/tree/updater_prune.cc:74: tree pruning end, 1 roots, 1868 extra nodes, 0 pruned nodes, max_depth=46\u001b[0m\n",
      "\u001b[34m[20:08:58] src/tree/updater_prune.cc:74: tree pruning end, 1 roots, 1172 extra nodes, 0 pruned nodes, max_depth=24\u001b[0m\n",
      "\u001b[34m[25]#011train-merror:0.003466#011validation-merror:0.131765\u001b[0m\n",
      "\u001b[34m[20:08:58] src/tree/updater_prune.cc:74: tree pruning end, 1 roots, 1278 extra nodes, 0 pruned nodes, max_depth=23\u001b[0m\n",
      "\u001b[34m[20:08:58] src/tree/updater_prune.cc:74: tree pruning end, 1 roots, 1790 extra nodes, 0 pruned nodes, max_depth=42\u001b[0m\n",
      "\u001b[34m[20:08:58] src/tree/updater_prune.cc:74: tree pruning end, 1 roots, 1114 extra nodes, 0 pruned nodes, max_depth=22\u001b[0m\n",
      "\u001b[34m[26]#011train-merror:0.003426#011validation-merror:0.131673\u001b[0m\n",
      "\u001b[34m[20:08:58] src/tree/updater_prune.cc:74: tree pruning end, 1 roots, 1234 extra nodes, 0 pruned nodes, max_depth=23\u001b[0m\n",
      "\u001b[34m[20:08:58] src/tree/updater_prune.cc:74: tree pruning end, 1 roots, 1762 extra nodes, 0 pruned nodes, max_depth=36\u001b[0m\n",
      "\u001b[34m[20:08:58] src/tree/updater_prune.cc:74: tree pruning end, 1 roots, 1066 extra nodes, 0 pruned nodes, max_depth=28\u001b[0m\n",
      "\u001b[34m[27]#011train-merror:0.003426#011validation-merror:0.131673\u001b[0m\n",
      "\u001b[34m[20:08:58] src/tree/updater_prune.cc:74: tree pruning end, 1 roots, 1212 extra nodes, 0 pruned nodes, max_depth=25\u001b[0m\n",
      "\u001b[34m[20:08:58] src/tree/updater_prune.cc:74: tree pruning end, 1 roots, 1706 extra nodes, 0 pruned nodes, max_depth=52\u001b[0m\n",
      "\u001b[34m[20:08:58] src/tree/updater_prune.cc:74: tree pruning end, 1 roots, 1030 extra nodes, 0 pruned nodes, max_depth=22\u001b[0m\n",
      "\u001b[34m[28]#011train-merror:0.003426#011validation-merror:0.131306\u001b[0m\n",
      "\u001b[34m[20:08:58] src/tree/updater_prune.cc:74: tree pruning end, 1 roots, 1162 extra nodes, 0 pruned nodes, max_depth=28\u001b[0m\n",
      "\u001b[34m[20:08:58] src/tree/updater_prune.cc:74: tree pruning end, 1 roots, 1644 extra nodes, 0 pruned nodes, max_depth=37\u001b[0m\n",
      "\u001b[34m[20:08:58] src/tree/updater_prune.cc:74: tree pruning end, 1 roots, 992 extra nodes, 0 pruned nodes, max_depth=27\u001b[0m\n",
      "\u001b[34m[29]#011train-merror:0.003426#011validation-merror:0.131398\u001b[0m\n",
      "\u001b[34m[20:08:58] src/tree/updater_prune.cc:74: tree pruning end, 1 roots, 1118 extra nodes, 0 pruned nodes, max_depth=22\u001b[0m\n",
      "\u001b[34m[20:08:58] src/tree/updater_prune.cc:74: tree pruning end, 1 roots, 1598 extra nodes, 0 pruned nodes, max_depth=39\u001b[0m\n",
      "\u001b[34m[20:08:59] src/tree/updater_prune.cc:74: tree pruning end, 1 roots, 974 extra nodes, 0 pruned nodes, max_depth=26\u001b[0m\n",
      "\u001b[34m[30]#011train-merror:0.003387#011validation-merror:0.131306\u001b[0m\n",
      "\u001b[34m[20:08:59] src/tree/updater_prune.cc:74: tree pruning end, 1 roots, 1094 extra nodes, 0 pruned nodes, max_depth=26\u001b[0m\n",
      "\u001b[34m[20:08:59] src/tree/updater_prune.cc:74: tree pruning end, 1 roots, 1558 extra nodes, 0 pruned nodes, max_depth=44\u001b[0m\n",
      "\u001b[34m[20:08:59] src/tree/updater_prune.cc:74: tree pruning end, 1 roots, 920 extra nodes, 0 pruned nodes, max_depth=25\u001b[0m\n",
      "\u001b[34m[31]#011train-merror:0.003387#011validation-merror:0.131214\u001b[0m\n",
      "\u001b[34m[20:08:59] src/tree/updater_prune.cc:74: tree pruning end, 1 roots, 1062 extra nodes, 0 pruned nodes, max_depth=30\u001b[0m\n",
      "\u001b[34m[20:08:59] src/tree/updater_prune.cc:74: tree pruning end, 1 roots, 1500 extra nodes, 0 pruned nodes, max_depth=45\u001b[0m\n",
      "\u001b[34m[20:08:59] src/tree/updater_prune.cc:74: tree pruning end, 1 roots, 906 extra nodes, 0 pruned nodes, max_depth=24\u001b[0m\n",
      "\u001b[34m[32]#011train-merror:0.003387#011validation-merror:0.130571\u001b[0m\n",
      "\u001b[34m[20:08:59] src/tree/updater_prune.cc:74: tree pruning end, 1 roots, 1010 extra nodes, 0 pruned nodes, max_depth=26\u001b[0m\n",
      "\u001b[34m[20:08:59] src/tree/updater_prune.cc:74: tree pruning end, 1 roots, 1490 extra nodes, 0 pruned nodes, max_depth=39\u001b[0m\n",
      "\u001b[34m[20:08:59] src/tree/updater_prune.cc:74: tree pruning end, 1 roots, 862 extra nodes, 0 pruned nodes, max_depth=25\u001b[0m\n",
      "\u001b[34m[33]#011train-merror:0.003387#011validation-merror:0.13103\u001b[0m\n",
      "\u001b[34m[20:08:59] src/tree/updater_prune.cc:74: tree pruning end, 1 roots, 1000 extra nodes, 0 pruned nodes, max_depth=29\u001b[0m\n",
      "\u001b[34m[20:08:59] src/tree/updater_prune.cc:74: tree pruning end, 1 roots, 1442 extra nodes, 0 pruned nodes, max_depth=37\u001b[0m\n",
      "\u001b[34m[20:08:59] src/tree/updater_prune.cc:74: tree pruning end, 1 roots, 860 extra nodes, 0 pruned nodes, max_depth=23\u001b[0m\n",
      "\u001b[34m[34]#011train-merror:0.003387#011validation-merror:0.129652\u001b[0m\n",
      "\u001b[34m[20:08:59] src/tree/updater_prune.cc:74: tree pruning end, 1 roots, 948 extra nodes, 0 pruned nodes, max_depth=22\u001b[0m\n",
      "\u001b[34m[20:08:59] src/tree/updater_prune.cc:74: tree pruning end, 1 roots, 1388 extra nodes, 0 pruned nodes, max_depth=39\u001b[0m\n",
      "\u001b[34m[20:08:59] src/tree/updater_prune.cc:74: tree pruning end, 1 roots, 828 extra nodes, 0 pruned nodes, max_depth=26\u001b[0m\n",
      "\u001b[34m[35]#011train-merror:0.003387#011validation-merror:0.130203\u001b[0m\n",
      "\u001b[34m[20:08:59] src/tree/updater_prune.cc:74: tree pruning end, 1 roots, 918 extra nodes, 0 pruned nodes, max_depth=29\u001b[0m\n",
      "\u001b[34m[20:08:59] src/tree/updater_prune.cc:74: tree pruning end, 1 roots, 1364 extra nodes, 0 pruned nodes, max_depth=40\u001b[0m\n",
      "\u001b[34m[20:08:59] src/tree/updater_prune.cc:74: tree pruning end, 1 roots, 794 extra nodes, 0 pruned nodes, max_depth=29\u001b[0m\n",
      "\u001b[34m[36]#011train-merror:0.003387#011validation-merror:0.129927\u001b[0m\n",
      "\u001b[34m[20:08:59] src/tree/updater_prune.cc:74: tree pruning end, 1 roots, 912 extra nodes, 0 pruned nodes, max_depth=28\u001b[0m\n",
      "\u001b[34m[20:08:59] src/tree/updater_prune.cc:74: tree pruning end, 1 roots, 1330 extra nodes, 0 pruned nodes, max_depth=32\u001b[0m\n",
      "\u001b[34m[20:08:59] src/tree/updater_prune.cc:74: tree pruning end, 1 roots, 784 extra nodes, 0 pruned nodes, max_depth=26\u001b[0m\n",
      "\u001b[34m[37]#011train-merror:0.003387#011validation-merror:0.129652\u001b[0m\n",
      "\u001b[34m[20:08:59] src/tree/updater_prune.cc:74: tree pruning end, 1 roots, 882 extra nodes, 0 pruned nodes, max_depth=28\u001b[0m\n",
      "\u001b[34m[20:09:00] src/tree/updater_prune.cc:74: tree pruning end, 1 roots, 1288 extra nodes, 0 pruned nodes, max_depth=37\u001b[0m\n",
      "\u001b[34m[20:09:00] src/tree/updater_prune.cc:74: tree pruning end, 1 roots, 760 extra nodes, 0 pruned nodes, max_depth=27\u001b[0m\n",
      "\u001b[34m[38]#011train-merror:0.003387#011validation-merror:0.12956\u001b[0m\n",
      "\u001b[34m[20:09:00] src/tree/updater_prune.cc:74: tree pruning end, 1 roots, 846 extra nodes, 0 pruned nodes, max_depth=32\u001b[0m\n",
      "\u001b[34m[20:09:00] src/tree/updater_prune.cc:74: tree pruning end, 1 roots, 1280 extra nodes, 0 pruned nodes, max_depth=32\u001b[0m\n",
      "\u001b[34m[20:09:00] src/tree/updater_prune.cc:74: tree pruning end, 1 roots, 768 extra nodes, 0 pruned nodes, max_depth=25\u001b[0m\n",
      "\u001b[34m[39]#011train-merror:0.003387#011validation-merror:0.129652\u001b[0m\n",
      "\u001b[34m[20:09:00] src/tree/updater_prune.cc:74: tree pruning end, 1 roots, 854 extra nodes, 0 pruned nodes, max_depth=27\u001b[0m\n",
      "\u001b[34m[20:09:00] src/tree/updater_prune.cc:74: tree pruning end, 1 roots, 1234 extra nodes, 0 pruned nodes, max_depth=37\u001b[0m\n",
      "\u001b[34m[20:09:00] src/tree/updater_prune.cc:74: tree pruning end, 1 roots, 738 extra nodes, 0 pruned nodes, max_depth=22\u001b[0m\n",
      "\u001b[34m[40]#011train-merror:0.003387#011validation-merror:0.129284\u001b[0m\n",
      "\u001b[34m[20:09:00] src/tree/updater_prune.cc:74: tree pruning end, 1 roots, 814 extra nodes, 0 pruned nodes, max_depth=23\u001b[0m\n",
      "\u001b[34m[20:09:00] src/tree/updater_prune.cc:74: tree pruning end, 1 roots, 1194 extra nodes, 0 pruned nodes, max_depth=41\u001b[0m\n",
      "\u001b[34m[20:09:00] src/tree/updater_prune.cc:74: tree pruning end, 1 roots, 698 extra nodes, 0 pruned nodes, max_depth=23\u001b[0m\n",
      "\u001b[34m[41]#011train-merror:0.003387#011validation-merror:0.129468\u001b[0m\n",
      "\u001b[34m[20:09:00] src/tree/updater_prune.cc:74: tree pruning end, 1 roots, 814 extra nodes, 0 pruned nodes, max_depth=29\u001b[0m\n",
      "\u001b[34m[20:09:00] src/tree/updater_prune.cc:74: tree pruning end, 1 roots, 1182 extra nodes, 0 pruned nodes, max_depth=49\u001b[0m\n",
      "\u001b[34m[20:09:00] src/tree/updater_prune.cc:74: tree pruning end, 1 roots, 708 extra nodes, 0 pruned nodes, max_depth=23\u001b[0m\n",
      "\u001b[34m[42]#011train-merror:0.003387#011validation-merror:0.129836\u001b[0m\n",
      "\u001b[34m[20:09:00] src/tree/updater_prune.cc:74: tree pruning end, 1 roots, 808 extra nodes, 0 pruned nodes, max_depth=32\u001b[0m\n",
      "\u001b[34m[20:09:00] src/tree/updater_prune.cc:74: tree pruning end, 1 roots, 1168 extra nodes, 0 pruned nodes, max_depth=36\u001b[0m\n",
      "\u001b[34m[20:09:00] src/tree/updater_prune.cc:74: tree pruning end, 1 roots, 678 extra nodes, 0 pruned nodes, max_depth=22\u001b[0m\n",
      "\u001b[34m[43]#011train-merror:0.003387#011validation-merror:0.129652\u001b[0m\n",
      "\u001b[34m[20:09:00] src/tree/updater_prune.cc:74: tree pruning end, 1 roots, 770 extra nodes, 0 pruned nodes, max_depth=27\u001b[0m\n",
      "\u001b[34m[20:09:00] src/tree/updater_prune.cc:74: tree pruning end, 1 roots, 1148 extra nodes, 0 pruned nodes, max_depth=36\u001b[0m\n",
      "\u001b[34m[20:09:00] src/tree/updater_prune.cc:74: tree pruning end, 1 roots, 658 extra nodes, 0 pruned nodes, max_depth=25\u001b[0m\n",
      "\u001b[34m[44]#011train-merror:0.003387#011validation-merror:0.1291\u001b[0m\n",
      "\u001b[34m[20:09:00] src/tree/updater_prune.cc:74: tree pruning end, 1 roots, 756 extra nodes, 0 pruned nodes, max_depth=25\u001b[0m\n",
      "\u001b[34m[20:09:00] src/tree/updater_prune.cc:74: tree pruning end, 1 roots, 1132 extra nodes, 0 pruned nodes, max_depth=40\u001b[0m\n",
      "\u001b[34m[20:09:00] src/tree/updater_prune.cc:74: tree pruning end, 1 roots, 654 extra nodes, 0 pruned nodes, max_depth=27\u001b[0m\n",
      "\u001b[34m[45]#011train-merror:0.003387#011validation-merror:0.129376\u001b[0m\n",
      "\u001b[34m[20:09:00] src/tree/updater_prune.cc:74: tree pruning end, 1 roots, 762 extra nodes, 0 pruned nodes, max_depth=26\u001b[0m\n",
      "\u001b[34m[20:09:00] src/tree/updater_prune.cc:74: tree pruning end, 1 roots, 1070 extra nodes, 0 pruned nodes, max_depth=36\u001b[0m\n",
      "\u001b[34m[20:09:01] src/tree/updater_prune.cc:74: tree pruning end, 1 roots, 626 extra nodes, 0 pruned nodes, max_depth=26\u001b[0m\n",
      "\u001b[34m[46]#011train-merror:0.003387#011validation-merror:0.128825\u001b[0m\n",
      "\u001b[34m[20:09:01] src/tree/updater_prune.cc:74: tree pruning end, 1 roots, 734 extra nodes, 0 pruned nodes, max_depth=27\u001b[0m\n",
      "\u001b[34m[20:09:01] src/tree/updater_prune.cc:74: tree pruning end, 1 roots, 1090 extra nodes, 0 pruned nodes, max_depth=41\u001b[0m\n",
      "\u001b[34m[20:09:01] src/tree/updater_prune.cc:74: tree pruning end, 1 roots, 608 extra nodes, 0 pruned nodes, max_depth=19\u001b[0m\n",
      "\u001b[34m[47]#011train-merror:0.003387#011validation-merror:0.129009\u001b[0m\n",
      "\u001b[34m[20:09:01] src/tree/updater_prune.cc:74: tree pruning end, 1 roots, 698 extra nodes, 0 pruned nodes, max_depth=32\u001b[0m\n",
      "\u001b[34m[20:09:01] src/tree/updater_prune.cc:74: tree pruning end, 1 roots, 1078 extra nodes, 0 pruned nodes, max_depth=43\u001b[0m\n",
      "\u001b[34m[20:09:01] src/tree/updater_prune.cc:74: tree pruning end, 1 roots, 588 extra nodes, 0 pruned nodes, max_depth=22\u001b[0m\n",
      "\u001b[34m[48]#011train-merror:0.003387#011validation-merror:0.128549\u001b[0m\n",
      "\u001b[34m[20:09:01] src/tree/updater_prune.cc:74: tree pruning end, 1 roots, 704 extra nodes, 0 pruned nodes, max_depth=31\u001b[0m\n",
      "\u001b[34m[20:09:01] src/tree/updater_prune.cc:74: tree pruning end, 1 roots, 1046 extra nodes, 0 pruned nodes, max_depth=62\u001b[0m\n",
      "\u001b[34m[20:09:01] src/tree/updater_prune.cc:74: tree pruning end, 1 roots, 614 extra nodes, 0 pruned nodes, max_depth=30\u001b[0m\n",
      "\u001b[34m[49]#011train-merror:0.003387#011validation-merror:0.128457\u001b[0m\n",
      "\u001b[34m[20:09:01] src/tree/updater_prune.cc:74: tree pruning end, 1 roots, 688 extra nodes, 0 pruned nodes, max_depth=25\u001b[0m\n",
      "\u001b[34m[20:09:01] src/tree/updater_prune.cc:74: tree pruning end, 1 roots, 1046 extra nodes, 0 pruned nodes, max_depth=58\u001b[0m\n",
      "\u001b[34m[20:09:01] src/tree/updater_prune.cc:74: tree pruning end, 1 roots, 596 extra nodes, 0 pruned nodes, max_depth=23\u001b[0m\n",
      "\u001b[34m[50]#011train-merror:0.003387#011validation-merror:0.128273\u001b[0m\n",
      "\u001b[34m[20:09:01] src/tree/updater_prune.cc:74: tree pruning end, 1 roots, 714 extra nodes, 0 pruned nodes, max_depth=22\u001b[0m\n",
      "\u001b[34m[20:09:01] src/tree/updater_prune.cc:74: tree pruning end, 1 roots, 1038 extra nodes, 0 pruned nodes, max_depth=41\u001b[0m\n",
      "\u001b[34m[20:09:01] src/tree/updater_prune.cc:74: tree pruning end, 1 roots, 576 extra nodes, 0 pruned nodes, max_depth=22\u001b[0m\n",
      "\u001b[34m[51]#011train-merror:0.003387#011validation-merror:0.128182\u001b[0m\n",
      "\u001b[34m[20:09:01] src/tree/updater_prune.cc:74: tree pruning end, 1 roots, 672 extra nodes, 0 pruned nodes, max_depth=27\u001b[0m\n",
      "\u001b[34m[20:09:01] src/tree/updater_prune.cc:74: tree pruning end, 1 roots, 1002 extra nodes, 0 pruned nodes, max_depth=29\u001b[0m\n",
      "\u001b[34m[20:09:01] src/tree/updater_prune.cc:74: tree pruning end, 1 roots, 562 extra nodes, 0 pruned nodes, max_depth=26\u001b[0m\n",
      "\u001b[34m[52]#011train-merror:0.003387#011validation-merror:0.128273\u001b[0m\n",
      "\u001b[34m[20:09:01] src/tree/updater_prune.cc:74: tree pruning end, 1 roots, 668 extra nodes, 0 pruned nodes, max_depth=21\u001b[0m\n",
      "\u001b[34m[20:09:01] src/tree/updater_prune.cc:74: tree pruning end, 1 roots, 976 extra nodes, 0 pruned nodes, max_depth=39\u001b[0m\n",
      "\u001b[34m[20:09:01] src/tree/updater_prune.cc:74: tree pruning end, 1 roots, 584 extra nodes, 0 pruned nodes, max_depth=24\u001b[0m\n",
      "\u001b[34m[53]#011train-merror:0.003387#011validation-merror:0.128365\u001b[0m\n",
      "\u001b[34m[20:09:01] src/tree/updater_prune.cc:74: tree pruning end, 1 roots, 662 extra nodes, 0 pruned nodes, max_depth=24\u001b[0m\n",
      "\u001b[34m[20:09:02] src/tree/updater_prune.cc:74: tree pruning end, 1 roots, 966 extra nodes, 0 pruned nodes, max_depth=47\u001b[0m\n",
      "\u001b[34m[20:09:02] src/tree/updater_prune.cc:74: tree pruning end, 1 roots, 570 extra nodes, 0 pruned nodes, max_depth=23\u001b[0m\n",
      "\u001b[34m[54]#011train-merror:0.003387#011validation-merror:0.128917\u001b[0m\n",
      "\u001b[34m[20:09:02] src/tree/updater_prune.cc:74: tree pruning end, 1 roots, 648 extra nodes, 0 pruned nodes, max_depth=23\u001b[0m\n",
      "\u001b[34m[20:09:02] src/tree/updater_prune.cc:74: tree pruning end, 1 roots, 956 extra nodes, 0 pruned nodes, max_depth=52\u001b[0m\n",
      "\u001b[34m[20:09:02] src/tree/updater_prune.cc:74: tree pruning end, 1 roots, 546 extra nodes, 0 pruned nodes, max_depth=24\u001b[0m\n",
      "\u001b[34m[55]#011train-merror:0.003387#011validation-merror:0.128917\u001b[0m\n",
      "\u001b[34m[20:09:02] src/tree/updater_prune.cc:74: tree pruning end, 1 roots, 640 extra nodes, 0 pruned nodes, max_depth=22\u001b[0m\n",
      "\u001b[34m[20:09:02] src/tree/updater_prune.cc:74: tree pruning end, 1 roots, 948 extra nodes, 0 pruned nodes, max_depth=38\u001b[0m\n",
      "\u001b[34m[20:09:02] src/tree/updater_prune.cc:74: tree pruning end, 1 roots, 534 extra nodes, 0 pruned nodes, max_depth=22\u001b[0m\n",
      "\u001b[34m[56]#011train-merror:0.003387#011validation-merror:0.128733\u001b[0m\n",
      "\u001b[34m[20:09:02] src/tree/updater_prune.cc:74: tree pruning end, 1 roots, 648 extra nodes, 0 pruned nodes, max_depth=28\u001b[0m\n",
      "\u001b[34m[20:09:02] src/tree/updater_prune.cc:74: tree pruning end, 1 roots, 936 extra nodes, 0 pruned nodes, max_depth=33\u001b[0m\n",
      "\u001b[34m[20:09:02] src/tree/updater_prune.cc:74: tree pruning end, 1 roots, 544 extra nodes, 0 pruned nodes, max_depth=22\u001b[0m\n",
      "\u001b[34m[57]#011train-merror:0.003387#011validation-merror:0.128733\u001b[0m\n",
      "\u001b[34m[20:09:02] src/tree/updater_prune.cc:74: tree pruning end, 1 roots, 606 extra nodes, 0 pruned nodes, max_depth=21\u001b[0m\n",
      "\u001b[34m[20:09:02] src/tree/updater_prune.cc:74: tree pruning end, 1 roots, 916 extra nodes, 0 pruned nodes, max_depth=37\u001b[0m\n",
      "\u001b[34m[20:09:02] src/tree/updater_prune.cc:74: tree pruning end, 1 roots, 528 extra nodes, 0 pruned nodes, max_depth=20\u001b[0m\n",
      "\u001b[34m[58]#011train-merror:0.003387#011validation-merror:0.12809\u001b[0m\n",
      "\u001b[34m[20:09:02] src/tree/updater_prune.cc:74: tree pruning end, 1 roots, 614 extra nodes, 0 pruned nodes, max_depth=32\u001b[0m\n",
      "\u001b[34m[20:09:02] src/tree/updater_prune.cc:74: tree pruning end, 1 roots, 886 extra nodes, 0 pruned nodes, max_depth=32\u001b[0m\n",
      "\u001b[34m[20:09:02] src/tree/updater_prune.cc:74: tree pruning end, 1 roots, 510 extra nodes, 0 pruned nodes, max_depth=20\u001b[0m\n",
      "\u001b[34m[59]#011train-merror:0.003387#011validation-merror:0.12763\u001b[0m\n",
      "\u001b[34m[20:09:02] src/tree/updater_prune.cc:74: tree pruning end, 1 roots, 594 extra nodes, 0 pruned nodes, max_depth=23\u001b[0m\n",
      "\u001b[34m[20:09:02] src/tree/updater_prune.cc:74: tree pruning end, 1 roots, 884 extra nodes, 0 pruned nodes, max_depth=54\u001b[0m\n",
      "\u001b[34m[20:09:02] src/tree/updater_prune.cc:74: tree pruning end, 1 roots, 502 extra nodes, 0 pruned nodes, max_depth=26\u001b[0m\n",
      "\u001b[34m[60]#011train-merror:0.003387#011validation-merror:0.127814\u001b[0m\n",
      "\u001b[34m[20:09:02] src/tree/updater_prune.cc:74: tree pruning end, 1 roots, 598 extra nodes, 0 pruned nodes, max_depth=20\u001b[0m\n",
      "\u001b[34m[20:09:02] src/tree/updater_prune.cc:74: tree pruning end, 1 roots, 878 extra nodes, 0 pruned nodes, max_depth=32\u001b[0m\n",
      "\u001b[34m[20:09:03] src/tree/updater_prune.cc:74: tree pruning end, 1 roots, 516 extra nodes, 0 pruned nodes, max_depth=21\u001b[0m\n",
      "\u001b[34m[61]#011train-merror:0.003387#011validation-merror:0.127906\u001b[0m\n",
      "\u001b[34m[20:09:03] src/tree/updater_prune.cc:74: tree pruning end, 1 roots, 574 extra nodes, 0 pruned nodes, max_depth=31\u001b[0m\n",
      "\u001b[34m[20:09:03] src/tree/updater_prune.cc:74: tree pruning end, 1 roots, 864 extra nodes, 0 pruned nodes, max_depth=42\u001b[0m\n",
      "\u001b[34m[20:09:03] src/tree/updater_prune.cc:74: tree pruning end, 1 roots, 494 extra nodes, 0 pruned nodes, max_depth=23\u001b[0m\n",
      "\u001b[34m[62]#011train-merror:0.003387#011validation-merror:0.128273\u001b[0m\n",
      "\u001b[34m[20:09:03] src/tree/updater_prune.cc:74: tree pruning end, 1 roots, 588 extra nodes, 0 pruned nodes, max_depth=28\u001b[0m\n",
      "\u001b[34m[20:09:03] src/tree/updater_prune.cc:74: tree pruning end, 1 roots, 854 extra nodes, 0 pruned nodes, max_depth=29\u001b[0m\n",
      "\u001b[34m[20:09:03] src/tree/updater_prune.cc:74: tree pruning end, 1 roots, 492 extra nodes, 0 pruned nodes, max_depth=22\u001b[0m\n",
      "\u001b[34m[63]#011train-merror:0.003387#011validation-merror:0.127906\u001b[0m\n",
      "\u001b[34m[20:09:03] src/tree/updater_prune.cc:74: tree pruning end, 1 roots, 580 extra nodes, 0 pruned nodes, max_depth=21\u001b[0m\n",
      "\u001b[34m[20:09:03] src/tree/updater_prune.cc:74: tree pruning end, 1 roots, 860 extra nodes, 0 pruned nodes, max_depth=31\u001b[0m\n",
      "\u001b[34m[20:09:03] src/tree/updater_prune.cc:74: tree pruning end, 1 roots, 472 extra nodes, 0 pruned nodes, max_depth=21\u001b[0m\n",
      "\u001b[34m[64]#011train-merror:0.003387#011validation-merror:0.127814\u001b[0m\n",
      "\u001b[34m[20:09:03] src/tree/updater_prune.cc:74: tree pruning end, 1 roots, 582 extra nodes, 0 pruned nodes, max_depth=26\u001b[0m\n",
      "\u001b[34m[20:09:03] src/tree/updater_prune.cc:74: tree pruning end, 1 roots, 836 extra nodes, 0 pruned nodes, max_depth=34\u001b[0m\n",
      "\u001b[34m[20:09:03] src/tree/updater_prune.cc:74: tree pruning end, 1 roots, 470 extra nodes, 0 pruned nodes, max_depth=23\u001b[0m\n",
      "\u001b[34m[65]#011train-merror:0.003387#011validation-merror:0.127814\u001b[0m\n",
      "\u001b[34m[20:09:03] src/tree/updater_prune.cc:74: tree pruning end, 1 roots, 554 extra nodes, 0 pruned nodes, max_depth=27\u001b[0m\n",
      "\u001b[34m[20:09:03] src/tree/updater_prune.cc:74: tree pruning end, 1 roots, 848 extra nodes, 0 pruned nodes, max_depth=42\u001b[0m\n",
      "\u001b[34m[20:09:03] src/tree/updater_prune.cc:74: tree pruning end, 1 roots, 458 extra nodes, 0 pruned nodes, max_depth=23\u001b[0m\n",
      "\u001b[34m[66]#011train-merror:0.003387#011validation-merror:0.127998\u001b[0m\n",
      "\u001b[34m[20:09:03] src/tree/updater_prune.cc:74: tree pruning end, 1 roots, 538 extra nodes, 0 pruned nodes, max_depth=25\u001b[0m\n",
      "\u001b[34m[20:09:03] src/tree/updater_prune.cc:74: tree pruning end, 1 roots, 804 extra nodes, 0 pruned nodes, max_depth=47\u001b[0m\n",
      "\u001b[34m[20:09:03] src/tree/updater_prune.cc:74: tree pruning end, 1 roots, 466 extra nodes, 0 pruned nodes, max_depth=25\u001b[0m\n",
      "\u001b[34m[67]#011train-merror:0.003387#011validation-merror:0.128182\u001b[0m\n",
      "\u001b[34m[20:09:03] src/tree/updater_prune.cc:74: tree pruning end, 1 roots, 554 extra nodes, 0 pruned nodes, max_depth=27\u001b[0m\n",
      "\u001b[34m[20:09:03] src/tree/updater_prune.cc:74: tree pruning end, 1 roots, 814 extra nodes, 0 pruned nodes, max_depth=32\u001b[0m\n",
      "\u001b[34m[20:09:03] src/tree/updater_prune.cc:74: tree pruning end, 1 roots, 460 extra nodes, 0 pruned nodes, max_depth=20\u001b[0m\n",
      "\u001b[34m[68]#011train-merror:0.003387#011validation-merror:0.127998\u001b[0m\n",
      "\u001b[34m[20:09:03] src/tree/updater_prune.cc:74: tree pruning end, 1 roots, 546 extra nodes, 0 pruned nodes, max_depth=26\u001b[0m\n",
      "\u001b[34m[20:09:04] src/tree/updater_prune.cc:74: tree pruning end, 1 roots, 778 extra nodes, 0 pruned nodes, max_depth=58\u001b[0m\n",
      "\u001b[34m[20:09:04] src/tree/updater_prune.cc:74: tree pruning end, 1 roots, 450 extra nodes, 0 pruned nodes, max_depth=20\u001b[0m\n",
      "\u001b[34m[69]#011train-merror:0.003387#011validation-merror:0.128457\u001b[0m\n",
      "\u001b[34m[20:09:04] src/tree/updater_prune.cc:74: tree pruning end, 1 roots, 516 extra nodes, 0 pruned nodes, max_depth=25\u001b[0m\n",
      "\u001b[34m[20:09:04] src/tree/updater_prune.cc:74: tree pruning end, 1 roots, 798 extra nodes, 0 pruned nodes, max_depth=29\u001b[0m\n",
      "\u001b[34m[20:09:04] src/tree/updater_prune.cc:74: tree pruning end, 1 roots, 462 extra nodes, 0 pruned nodes, max_depth=18\u001b[0m\n",
      "\u001b[34m[70]#011train-merror:0.003387#011validation-merror:0.128457\u001b[0m\n",
      "\u001b[34m[20:09:04] src/tree/updater_prune.cc:74: tree pruning end, 1 roots, 522 extra nodes, 0 pruned nodes, max_depth=29\u001b[0m\n",
      "\u001b[34m[20:09:04] src/tree/updater_prune.cc:74: tree pruning end, 1 roots, 786 extra nodes, 0 pruned nodes, max_depth=40\u001b[0m\n",
      "\u001b[34m[20:09:04] src/tree/updater_prune.cc:74: tree pruning end, 1 roots, 446 extra nodes, 0 pruned nodes, max_depth=22\u001b[0m\n",
      "\u001b[34m[71]#011train-merror:0.003387#011validation-merror:0.128733\u001b[0m\n",
      "\u001b[34m[20:09:04] src/tree/updater_prune.cc:74: tree pruning end, 1 roots, 532 extra nodes, 0 pruned nodes, max_depth=24\u001b[0m\n",
      "\u001b[34m[20:09:04] src/tree/updater_prune.cc:74: tree pruning end, 1 roots, 764 extra nodes, 0 pruned nodes, max_depth=38\u001b[0m\n",
      "\u001b[34m[20:09:04] src/tree/updater_prune.cc:74: tree pruning end, 1 roots, 452 extra nodes, 0 pruned nodes, max_depth=25\u001b[0m\n",
      "\u001b[34m[72]#011train-merror:0.003387#011validation-merror:0.12809\u001b[0m\n",
      "\u001b[34m[20:09:04] src/tree/updater_prune.cc:74: tree pruning end, 1 roots, 510 extra nodes, 0 pruned nodes, max_depth=28\u001b[0m\n",
      "\u001b[34m[20:09:04] src/tree/updater_prune.cc:74: tree pruning end, 1 roots, 766 extra nodes, 0 pruned nodes, max_depth=29\u001b[0m\n",
      "\u001b[34m[20:09:04] src/tree/updater_prune.cc:74: tree pruning end, 1 roots, 420 extra nodes, 0 pruned nodes, max_depth=21\u001b[0m\n",
      "\u001b[34m[73]#011train-merror:0.003387#011validation-merror:0.128365\u001b[0m\n",
      "\u001b[34m[20:09:04] src/tree/updater_prune.cc:74: tree pruning end, 1 roots, 512 extra nodes, 0 pruned nodes, max_depth=27\u001b[0m\n",
      "\u001b[34m[20:09:04] src/tree/updater_prune.cc:74: tree pruning end, 1 roots, 740 extra nodes, 0 pruned nodes, max_depth=31\u001b[0m\n",
      "\u001b[34m[20:09:04] src/tree/updater_prune.cc:74: tree pruning end, 1 roots, 432 extra nodes, 0 pruned nodes, max_depth=23\u001b[0m\n",
      "\u001b[34m[74]#011train-merror:0.003387#011validation-merror:0.127814\u001b[0m\n",
      "\u001b[34m[20:09:04] src/tree/updater_prune.cc:74: tree pruning end, 1 roots, 514 extra nodes, 0 pruned nodes, max_depth=27\u001b[0m\n",
      "\u001b[34m[20:09:04] src/tree/updater_prune.cc:74: tree pruning end, 1 roots, 734 extra nodes, 0 pruned nodes, max_depth=32\u001b[0m\n",
      "\u001b[34m[20:09:04] src/tree/updater_prune.cc:74: tree pruning end, 1 roots, 428 extra nodes, 0 pruned nodes, max_depth=22\u001b[0m\n",
      "\u001b[34m[75]#011train-merror:0.003387#011validation-merror:0.12763\u001b[0m\n",
      "\u001b[34m[20:09:04] src/tree/updater_prune.cc:74: tree pruning end, 1 roots, 500 extra nodes, 0 pruned nodes, max_depth=25\u001b[0m\n",
      "\u001b[34m[20:09:04] src/tree/updater_prune.cc:74: tree pruning end, 1 roots, 726 extra nodes, 0 pruned nodes, max_depth=36\u001b[0m\n",
      "\u001b[34m[20:09:04] src/tree/updater_prune.cc:74: tree pruning end, 1 roots, 406 extra nodes, 0 pruned nodes, max_depth=20\u001b[0m\n",
      "\u001b[34m[76]#011train-merror:0.003387#011validation-merror:0.12809\u001b[0m\n",
      "\u001b[34m[20:09:04] src/tree/updater_prune.cc:74: tree pruning end, 1 roots, 496 extra nodes, 0 pruned nodes, max_depth=21\u001b[0m\n",
      "\u001b[34m[20:09:04] src/tree/updater_prune.cc:74: tree pruning end, 1 roots, 740 extra nodes, 0 pruned nodes, max_depth=33\u001b[0m\n",
      "\u001b[34m[20:09:05] src/tree/updater_prune.cc:74: tree pruning end, 1 roots, 404 extra nodes, 0 pruned nodes, max_depth=24\u001b[0m\n",
      "\u001b[34m[77]#011train-merror:0.003387#011validation-merror:0.128273\u001b[0m\n",
      "\u001b[34m[20:09:05] src/tree/updater_prune.cc:74: tree pruning end, 1 roots, 496 extra nodes, 0 pruned nodes, max_depth=21\u001b[0m\n",
      "\u001b[34m[20:09:05] src/tree/updater_prune.cc:74: tree pruning end, 1 roots, 738 extra nodes, 0 pruned nodes, max_depth=27\u001b[0m\n",
      "\u001b[34m[20:09:05] src/tree/updater_prune.cc:74: tree pruning end, 1 roots, 394 extra nodes, 0 pruned nodes, max_depth=20\u001b[0m\n",
      "\u001b[34m[78]#011train-merror:0.003387#011validation-merror:0.128457\u001b[0m\n",
      "\u001b[34m[20:09:05] src/tree/updater_prune.cc:74: tree pruning end, 1 roots, 486 extra nodes, 0 pruned nodes, max_depth=25\u001b[0m\n",
      "\u001b[34m[20:09:05] src/tree/updater_prune.cc:74: tree pruning end, 1 roots, 732 extra nodes, 0 pruned nodes, max_depth=33\u001b[0m\n",
      "\u001b[34m[20:09:05] src/tree/updater_prune.cc:74: tree pruning end, 1 roots, 406 extra nodes, 0 pruned nodes, max_depth=20\u001b[0m\n",
      "\u001b[34m[79]#011train-merror:0.003387#011validation-merror:0.128273\u001b[0m\n",
      "\u001b[34m[20:09:05] src/tree/updater_prune.cc:74: tree pruning end, 1 roots, 472 extra nodes, 0 pruned nodes, max_depth=23\u001b[0m\n",
      "\u001b[34m[20:09:05] src/tree/updater_prune.cc:74: tree pruning end, 1 roots, 698 extra nodes, 0 pruned nodes, max_depth=36\u001b[0m\n",
      "\u001b[34m[20:09:05] src/tree/updater_prune.cc:74: tree pruning end, 1 roots, 402 extra nodes, 0 pruned nodes, max_depth=18\u001b[0m\n",
      "\u001b[34m[80]#011train-merror:0.003387#011validation-merror:0.128182\u001b[0m\n",
      "\u001b[34m[20:09:05] src/tree/updater_prune.cc:74: tree pruning end, 1 roots, 470 extra nodes, 0 pruned nodes, max_depth=23\u001b[0m\n",
      "\u001b[34m[20:09:05] src/tree/updater_prune.cc:74: tree pruning end, 1 roots, 704 extra nodes, 0 pruned nodes, max_depth=37\u001b[0m\n",
      "\u001b[34m[20:09:05] src/tree/updater_prune.cc:74: tree pruning end, 1 roots, 394 extra nodes, 0 pruned nodes, max_depth=21\u001b[0m\n",
      "\u001b[34m[81]#011train-merror:0.003387#011validation-merror:0.128365\u001b[0m\n",
      "\u001b[34m[20:09:05] src/tree/updater_prune.cc:74: tree pruning end, 1 roots, 474 extra nodes, 0 pruned nodes, max_depth=24\u001b[0m\n",
      "\u001b[34m[20:09:05] src/tree/updater_prune.cc:74: tree pruning end, 1 roots, 700 extra nodes, 0 pruned nodes, max_depth=32\u001b[0m\n",
      "\u001b[34m[20:09:05] src/tree/updater_prune.cc:74: tree pruning end, 1 roots, 386 extra nodes, 0 pruned nodes, max_depth=22\u001b[0m\n",
      "\u001b[34m[82]#011train-merror:0.003387#011validation-merror:0.128365\u001b[0m\n",
      "\u001b[34m[20:09:05] src/tree/updater_prune.cc:74: tree pruning end, 1 roots, 472 extra nodes, 0 pruned nodes, max_depth=24\u001b[0m\n",
      "\u001b[34m[20:09:05] src/tree/updater_prune.cc:74: tree pruning end, 1 roots, 680 extra nodes, 0 pruned nodes, max_depth=26\u001b[0m\n",
      "\u001b[34m[20:09:05] src/tree/updater_prune.cc:74: tree pruning end, 1 roots, 406 extra nodes, 0 pruned nodes, max_depth=25\u001b[0m\n",
      "\u001b[34m[83]#011train-merror:0.003387#011validation-merror:0.128273\u001b[0m\n",
      "\u001b[34m[20:09:05] src/tree/updater_prune.cc:74: tree pruning end, 1 roots, 466 extra nodes, 0 pruned nodes, max_depth=26\u001b[0m\n",
      "\u001b[34m[20:09:05] src/tree/updater_prune.cc:74: tree pruning end, 1 roots, 690 extra nodes, 0 pruned nodes, max_depth=44\u001b[0m\n",
      "\u001b[34m[20:09:05] src/tree/updater_prune.cc:74: tree pruning end, 1 roots, 392 extra nodes, 0 pruned nodes, max_depth=19\u001b[0m\n",
      "\u001b[34m[84]#011train-merror:0.003387#011validation-merror:0.128641\u001b[0m\n",
      "\u001b[34m[20:09:05] src/tree/updater_prune.cc:74: tree pruning end, 1 roots, 472 extra nodes, 0 pruned nodes, max_depth=23\u001b[0m\n",
      "\u001b[34m[20:09:05] src/tree/updater_prune.cc:74: tree pruning end, 1 roots, 664 extra nodes, 0 pruned nodes, max_depth=24\u001b[0m\n",
      "\u001b[34m[20:09:05] src/tree/updater_prune.cc:74: tree pruning end, 1 roots, 382 extra nodes, 0 pruned nodes, max_depth=21\u001b[0m\n",
      "\u001b[34m[85]#011train-merror:0.003387#011validation-merror:0.128549\u001b[0m\n",
      "\u001b[34m[20:09:05] src/tree/updater_prune.cc:74: tree pruning end, 1 roots, 464 extra nodes, 0 pruned nodes, max_depth=25\u001b[0m\n",
      "\u001b[34m[20:09:05] src/tree/updater_prune.cc:74: tree pruning end, 1 roots, 674 extra nodes, 0 pruned nodes, max_depth=36\u001b[0m\n",
      "\u001b[34m[20:09:05] src/tree/updater_prune.cc:74: tree pruning end, 1 roots, 378 extra nodes, 0 pruned nodes, max_depth=20\u001b[0m\n",
      "\u001b[34m[86]#011train-merror:0.003387#011validation-merror:0.128641\u001b[0m\n",
      "\u001b[34m[20:09:06] src/tree/updater_prune.cc:74: tree pruning end, 1 roots, 468 extra nodes, 0 pruned nodes, max_depth=26\u001b[0m\n",
      "\u001b[34m[20:09:06] src/tree/updater_prune.cc:74: tree pruning end, 1 roots, 678 extra nodes, 0 pruned nodes, max_depth=31\u001b[0m\n",
      "\u001b[34m[20:09:06] src/tree/updater_prune.cc:74: tree pruning end, 1 roots, 366 extra nodes, 0 pruned nodes, max_depth=19\u001b[0m\n",
      "\u001b[34m[87]#011train-merror:0.003387#011validation-merror:0.128457\u001b[0m\n",
      "\u001b[34m[20:09:06] src/tree/updater_prune.cc:74: tree pruning end, 1 roots, 440 extra nodes, 0 pruned nodes, max_depth=22\u001b[0m\n",
      "\u001b[34m[20:09:06] src/tree/updater_prune.cc:74: tree pruning end, 1 roots, 662 extra nodes, 0 pruned nodes, max_depth=38\u001b[0m\n",
      "\u001b[34m[20:09:06] src/tree/updater_prune.cc:74: tree pruning end, 1 roots, 356 extra nodes, 0 pruned nodes, max_depth=18\u001b[0m\n",
      "\u001b[34m[88]#011train-merror:0.003387#011validation-merror:0.12809\u001b[0m\n",
      "\u001b[34m[20:09:06] src/tree/updater_prune.cc:74: tree pruning end, 1 roots, 436 extra nodes, 0 pruned nodes, max_depth=21\u001b[0m\n",
      "\u001b[34m[20:09:06] src/tree/updater_prune.cc:74: tree pruning end, 1 roots, 646 extra nodes, 0 pruned nodes, max_depth=46\u001b[0m\n",
      "\u001b[34m[20:09:06] src/tree/updater_prune.cc:74: tree pruning end, 1 roots, 372 extra nodes, 0 pruned nodes, max_depth=26\u001b[0m\n",
      "\u001b[34m[89]#011train-merror:0.003387#011validation-merror:0.127998\u001b[0m\n",
      "\u001b[34m[20:09:06] src/tree/updater_prune.cc:74: tree pruning end, 1 roots, 430 extra nodes, 0 pruned nodes, max_depth=24\u001b[0m\n",
      "\u001b[34m[20:09:06] src/tree/updater_prune.cc:74: tree pruning end, 1 roots, 642 extra nodes, 0 pruned nodes, max_depth=29\u001b[0m\n",
      "\u001b[34m[20:09:06] src/tree/updater_prune.cc:74: tree pruning end, 1 roots, 368 extra nodes, 0 pruned nodes, max_depth=27\u001b[0m\n",
      "\u001b[34m[90]#011train-merror:0.003387#011validation-merror:0.127538\u001b[0m\n",
      "\u001b[34m[20:09:06] src/tree/updater_prune.cc:74: tree pruning end, 1 roots, 428 extra nodes, 0 pruned nodes, max_depth=19\u001b[0m\n",
      "\u001b[34m[20:09:06] src/tree/updater_prune.cc:74: tree pruning end, 1 roots, 644 extra nodes, 0 pruned nodes, max_depth=40\u001b[0m\n",
      "\u001b[34m[20:09:06] src/tree/updater_prune.cc:74: tree pruning end, 1 roots, 366 extra nodes, 0 pruned nodes, max_depth=22\u001b[0m\n",
      "\u001b[34m[91]#011train-merror:0.003387#011validation-merror:0.127722\u001b[0m\n",
      "\u001b[34m[20:09:06] src/tree/updater_prune.cc:74: tree pruning end, 1 roots, 438 extra nodes, 0 pruned nodes, max_depth=28\u001b[0m\n",
      "\u001b[34m[20:09:06] src/tree/updater_prune.cc:74: tree pruning end, 1 roots, 650 extra nodes, 0 pruned nodes, max_depth=33\u001b[0m\n",
      "\u001b[34m[20:09:06] src/tree/updater_prune.cc:74: tree pruning end, 1 roots, 342 extra nodes, 0 pruned nodes, max_depth=20\u001b[0m\n",
      "\u001b[34m[92]#011train-merror:0.003387#011validation-merror:0.127998\u001b[0m\n",
      "\u001b[34m[20:09:06] src/tree/updater_prune.cc:74: tree pruning end, 1 roots, 426 extra nodes, 0 pruned nodes, max_depth=24\u001b[0m\n",
      "\u001b[34m[20:09:06] src/tree/updater_prune.cc:74: tree pruning end, 1 roots, 626 extra nodes, 0 pruned nodes, max_depth=38\u001b[0m\n",
      "\u001b[34m[20:09:06] src/tree/updater_prune.cc:74: tree pruning end, 1 roots, 348 extra nodes, 0 pruned nodes, max_depth=22\u001b[0m\n",
      "\u001b[34m[93]#011train-merror:0.003387#011validation-merror:0.127814\u001b[0m\n",
      "\u001b[34m[20:09:06] src/tree/updater_prune.cc:74: tree pruning end, 1 roots, 410 extra nodes, 0 pruned nodes, max_depth=27\u001b[0m\n",
      "\u001b[34m[20:09:06] src/tree/updater_prune.cc:74: tree pruning end, 1 roots, 630 extra nodes, 0 pruned nodes, max_depth=41\u001b[0m\n",
      "\u001b[34m[20:09:06] src/tree/updater_prune.cc:74: tree pruning end, 1 roots, 358 extra nodes, 0 pruned nodes, max_depth=19\u001b[0m\n",
      "\u001b[34m[94]#011train-merror:0.003387#011validation-merror:0.128641\u001b[0m\n",
      "\u001b[34m[20:09:06] src/tree/updater_prune.cc:74: tree pruning end, 1 roots, 416 extra nodes, 0 pruned nodes, max_depth=21\u001b[0m\n",
      "\u001b[34m[20:09:06] src/tree/updater_prune.cc:74: tree pruning end, 1 roots, 628 extra nodes, 0 pruned nodes, max_depth=34\u001b[0m\n",
      "\u001b[34m[20:09:06] src/tree/updater_prune.cc:74: tree pruning end, 1 roots, 338 extra nodes, 0 pruned nodes, max_depth=22\u001b[0m\n",
      "\u001b[34m[95]#011train-merror:0.003387#011validation-merror:0.128457\u001b[0m\n",
      "\u001b[34m[20:09:07] src/tree/updater_prune.cc:74: tree pruning end, 1 roots, 418 extra nodes, 0 pruned nodes, max_depth=24\u001b[0m\n",
      "\u001b[34m[20:09:07] src/tree/updater_prune.cc:74: tree pruning end, 1 roots, 608 extra nodes, 0 pruned nodes, max_depth=37\u001b[0m\n",
      "\u001b[34m[20:09:07] src/tree/updater_prune.cc:74: tree pruning end, 1 roots, 330 extra nodes, 0 pruned nodes, max_depth=18\u001b[0m\n",
      "\u001b[34m[96]#011train-merror:0.003387#011validation-merror:0.128549\u001b[0m\n",
      "\u001b[34m[20:09:07] src/tree/updater_prune.cc:74: tree pruning end, 1 roots, 418 extra nodes, 0 pruned nodes, max_depth=25\u001b[0m\n",
      "\u001b[34m[20:09:07] src/tree/updater_prune.cc:74: tree pruning end, 1 roots, 626 extra nodes, 0 pruned nodes, max_depth=31\u001b[0m\n",
      "\u001b[34m[20:09:07] src/tree/updater_prune.cc:74: tree pruning end, 1 roots, 338 extra nodes, 0 pruned nodes, max_depth=18\u001b[0m\n",
      "\u001b[34m[97]#011train-merror:0.003387#011validation-merror:0.128457\u001b[0m\n",
      "\u001b[34m[20:09:07] src/tree/updater_prune.cc:74: tree pruning end, 1 roots, 404 extra nodes, 0 pruned nodes, max_depth=19\u001b[0m\n",
      "\u001b[34m[20:09:07] src/tree/updater_prune.cc:74: tree pruning end, 1 roots, 616 extra nodes, 0 pruned nodes, max_depth=24\u001b[0m\n",
      "\u001b[34m[20:09:07] src/tree/updater_prune.cc:74: tree pruning end, 1 roots, 344 extra nodes, 0 pruned nodes, max_depth=20\u001b[0m\n",
      "\u001b[34m[98]#011train-merror:0.003387#011validation-merror:0.128273\u001b[0m\n",
      "\u001b[34m[20:09:07] src/tree/updater_prune.cc:74: tree pruning end, 1 roots, 402 extra nodes, 0 pruned nodes, max_depth=23\u001b[0m\n",
      "\u001b[34m[20:09:07] src/tree/updater_prune.cc:74: tree pruning end, 1 roots, 606 extra nodes, 0 pruned nodes, max_depth=48\u001b[0m\n",
      "\u001b[34m[20:09:07] src/tree/updater_prune.cc:74: tree pruning end, 1 roots, 346 extra nodes, 0 pruned nodes, max_depth=20\u001b[0m\n",
      "\u001b[34m[99]#011train-merror:0.003387#011validation-merror:0.128273\u001b[0m\n",
      "\n",
      "2023-09-13 20:09:24 Uploading - Uploading generated training model\n",
      "2023-09-13 20:09:24 Completed - Training job completed\n",
      "Training seconds: 87\n",
      "Billable seconds: 87\n"
     ]
    }
   ],
   "source": [
    "xgboost.fit(data_channels)"
   ]
  },
  {
   "cell_type": "markdown",
   "id": "841883f5-cc5a-4e97-b053-9d2cbf60e13d",
   "metadata": {},
   "source": [
    "# Deploy / Evaluation"
   ]
  },
  {
   "cell_type": "code",
   "execution_count": 59,
   "id": "cb283599-aaf4-4711-8f69-fc4180ae1f5a",
   "metadata": {
    "tags": []
   },
   "outputs": [
    {
     "name": "stderr",
     "output_type": "stream",
     "text": [
      "INFO:sagemaker:Creating model with name: xgboost-2023-09-13-20-11-33-301\n",
      "INFO:sagemaker:Creating endpoint-config with name xgboost-2023-09-13-20-11-33-301\n",
      "INFO:sagemaker:Creating endpoint with name xgboost-2023-09-13-20-11-33-301\n"
     ]
    },
    {
     "name": "stdout",
     "output_type": "stream",
     "text": [
      "-------!"
     ]
    }
   ],
   "source": [
    "xgboost = xgboost.deploy(initial_instance_count = 1, instance_type = 'ml.m4.xlarge')"
   ]
  },
  {
   "cell_type": "code",
   "execution_count": 60,
   "id": "917fa64f-fcff-4e12-9776-af9c23fe4b64",
   "metadata": {
    "tags": []
   },
   "outputs": [],
   "source": [
    "from sagemaker.serializers import CSVSerializer\n",
    "xgboost.serializer = CSVSerializer()"
   ]
  },
  {
   "cell_type": "code",
   "execution_count": 62,
   "id": "562d4a99-10ee-4ade-aee8-172720250368",
   "metadata": {
    "tags": []
   },
   "outputs": [],
   "source": [
    "y_pred = np.array(xgboost.predict(x_test).decode('utf-8').split(',')).astype(np.float32)"
   ]
  },
  {
   "cell_type": "code",
   "execution_count": 63,
   "id": "d1928300-57f7-4f93-abbb-c58c232ebcd6",
   "metadata": {
    "tags": []
   },
   "outputs": [],
   "source": [
    "from sklearn.metrics import classification_report, accuracy_score"
   ]
  },
  {
   "cell_type": "code",
   "execution_count": 66,
   "id": "e5f857cc-c1c9-4b17-956e-a7d696377726",
   "metadata": {
    "tags": []
   },
   "outputs": [
    {
     "name": "stdout",
     "output_type": "stream",
     "text": [
      "0.8716346595607829\n"
     ]
    }
   ],
   "source": [
    "print((accuracy_score(y_test, y_pred)))"
   ]
  },
  {
   "cell_type": "code",
   "execution_count": 68,
   "id": "f3ba7bea-8b61-4007-9bd8-73947f64522e",
   "metadata": {
    "tags": []
   },
   "outputs": [
    {
     "name": "stdout",
     "output_type": "stream",
     "text": [
      "              precision    recall  f1-score   support\n",
      "\n",
      "           0       0.89      0.87      0.88      3299\n",
      "           1       0.85      0.85      0.85      4326\n",
      "           2       0.88      0.90      0.89      3258\n",
      "\n",
      "    accuracy                           0.87     10883\n",
      "   macro avg       0.87      0.87      0.87     10883\n",
      "weighted avg       0.87      0.87      0.87     10883\n",
      "\n"
     ]
    }
   ],
   "source": [
    "print(classification_report(y_test, y_pred))"
   ]
  }
 ],
 "metadata": {
  "availableInstances": [
   {
    "_defaultOrder": 0,
    "_isFastLaunch": true,
    "category": "General purpose",
    "gpuNum": 0,
    "hideHardwareSpecs": false,
    "memoryGiB": 4,
    "name": "ml.t3.medium",
    "vcpuNum": 2
   },
   {
    "_defaultOrder": 1,
    "_isFastLaunch": false,
    "category": "General purpose",
    "gpuNum": 0,
    "hideHardwareSpecs": false,
    "memoryGiB": 8,
    "name": "ml.t3.large",
    "vcpuNum": 2
   },
   {
    "_defaultOrder": 2,
    "_isFastLaunch": false,
    "category": "General purpose",
    "gpuNum": 0,
    "hideHardwareSpecs": false,
    "memoryGiB": 16,
    "name": "ml.t3.xlarge",
    "vcpuNum": 4
   },
   {
    "_defaultOrder": 3,
    "_isFastLaunch": false,
    "category": "General purpose",
    "gpuNum": 0,
    "hideHardwareSpecs": false,
    "memoryGiB": 32,
    "name": "ml.t3.2xlarge",
    "vcpuNum": 8
   },
   {
    "_defaultOrder": 4,
    "_isFastLaunch": true,
    "category": "General purpose",
    "gpuNum": 0,
    "hideHardwareSpecs": false,
    "memoryGiB": 8,
    "name": "ml.m5.large",
    "vcpuNum": 2
   },
   {
    "_defaultOrder": 5,
    "_isFastLaunch": false,
    "category": "General purpose",
    "gpuNum": 0,
    "hideHardwareSpecs": false,
    "memoryGiB": 16,
    "name": "ml.m5.xlarge",
    "vcpuNum": 4
   },
   {
    "_defaultOrder": 6,
    "_isFastLaunch": false,
    "category": "General purpose",
    "gpuNum": 0,
    "hideHardwareSpecs": false,
    "memoryGiB": 32,
    "name": "ml.m5.2xlarge",
    "vcpuNum": 8
   },
   {
    "_defaultOrder": 7,
    "_isFastLaunch": false,
    "category": "General purpose",
    "gpuNum": 0,
    "hideHardwareSpecs": false,
    "memoryGiB": 64,
    "name": "ml.m5.4xlarge",
    "vcpuNum": 16
   },
   {
    "_defaultOrder": 8,
    "_isFastLaunch": false,
    "category": "General purpose",
    "gpuNum": 0,
    "hideHardwareSpecs": false,
    "memoryGiB": 128,
    "name": "ml.m5.8xlarge",
    "vcpuNum": 32
   },
   {
    "_defaultOrder": 9,
    "_isFastLaunch": false,
    "category": "General purpose",
    "gpuNum": 0,
    "hideHardwareSpecs": false,
    "memoryGiB": 192,
    "name": "ml.m5.12xlarge",
    "vcpuNum": 48
   },
   {
    "_defaultOrder": 10,
    "_isFastLaunch": false,
    "category": "General purpose",
    "gpuNum": 0,
    "hideHardwareSpecs": false,
    "memoryGiB": 256,
    "name": "ml.m5.16xlarge",
    "vcpuNum": 64
   },
   {
    "_defaultOrder": 11,
    "_isFastLaunch": false,
    "category": "General purpose",
    "gpuNum": 0,
    "hideHardwareSpecs": false,
    "memoryGiB": 384,
    "name": "ml.m5.24xlarge",
    "vcpuNum": 96
   },
   {
    "_defaultOrder": 12,
    "_isFastLaunch": false,
    "category": "General purpose",
    "gpuNum": 0,
    "hideHardwareSpecs": false,
    "memoryGiB": 8,
    "name": "ml.m5d.large",
    "vcpuNum": 2
   },
   {
    "_defaultOrder": 13,
    "_isFastLaunch": false,
    "category": "General purpose",
    "gpuNum": 0,
    "hideHardwareSpecs": false,
    "memoryGiB": 16,
    "name": "ml.m5d.xlarge",
    "vcpuNum": 4
   },
   {
    "_defaultOrder": 14,
    "_isFastLaunch": false,
    "category": "General purpose",
    "gpuNum": 0,
    "hideHardwareSpecs": false,
    "memoryGiB": 32,
    "name": "ml.m5d.2xlarge",
    "vcpuNum": 8
   },
   {
    "_defaultOrder": 15,
    "_isFastLaunch": false,
    "category": "General purpose",
    "gpuNum": 0,
    "hideHardwareSpecs": false,
    "memoryGiB": 64,
    "name": "ml.m5d.4xlarge",
    "vcpuNum": 16
   },
   {
    "_defaultOrder": 16,
    "_isFastLaunch": false,
    "category": "General purpose",
    "gpuNum": 0,
    "hideHardwareSpecs": false,
    "memoryGiB": 128,
    "name": "ml.m5d.8xlarge",
    "vcpuNum": 32
   },
   {
    "_defaultOrder": 17,
    "_isFastLaunch": false,
    "category": "General purpose",
    "gpuNum": 0,
    "hideHardwareSpecs": false,
    "memoryGiB": 192,
    "name": "ml.m5d.12xlarge",
    "vcpuNum": 48
   },
   {
    "_defaultOrder": 18,
    "_isFastLaunch": false,
    "category": "General purpose",
    "gpuNum": 0,
    "hideHardwareSpecs": false,
    "memoryGiB": 256,
    "name": "ml.m5d.16xlarge",
    "vcpuNum": 64
   },
   {
    "_defaultOrder": 19,
    "_isFastLaunch": false,
    "category": "General purpose",
    "gpuNum": 0,
    "hideHardwareSpecs": false,
    "memoryGiB": 384,
    "name": "ml.m5d.24xlarge",
    "vcpuNum": 96
   },
   {
    "_defaultOrder": 20,
    "_isFastLaunch": false,
    "category": "General purpose",
    "gpuNum": 0,
    "hideHardwareSpecs": true,
    "memoryGiB": 0,
    "name": "ml.geospatial.interactive",
    "supportedImageNames": [
     "sagemaker-geospatial-v1-0"
    ],
    "vcpuNum": 0
   },
   {
    "_defaultOrder": 21,
    "_isFastLaunch": true,
    "category": "Compute optimized",
    "gpuNum": 0,
    "hideHardwareSpecs": false,
    "memoryGiB": 4,
    "name": "ml.c5.large",
    "vcpuNum": 2
   },
   {
    "_defaultOrder": 22,
    "_isFastLaunch": false,
    "category": "Compute optimized",
    "gpuNum": 0,
    "hideHardwareSpecs": false,
    "memoryGiB": 8,
    "name": "ml.c5.xlarge",
    "vcpuNum": 4
   },
   {
    "_defaultOrder": 23,
    "_isFastLaunch": false,
    "category": "Compute optimized",
    "gpuNum": 0,
    "hideHardwareSpecs": false,
    "memoryGiB": 16,
    "name": "ml.c5.2xlarge",
    "vcpuNum": 8
   },
   {
    "_defaultOrder": 24,
    "_isFastLaunch": false,
    "category": "Compute optimized",
    "gpuNum": 0,
    "hideHardwareSpecs": false,
    "memoryGiB": 32,
    "name": "ml.c5.4xlarge",
    "vcpuNum": 16
   },
   {
    "_defaultOrder": 25,
    "_isFastLaunch": false,
    "category": "Compute optimized",
    "gpuNum": 0,
    "hideHardwareSpecs": false,
    "memoryGiB": 72,
    "name": "ml.c5.9xlarge",
    "vcpuNum": 36
   },
   {
    "_defaultOrder": 26,
    "_isFastLaunch": false,
    "category": "Compute optimized",
    "gpuNum": 0,
    "hideHardwareSpecs": false,
    "memoryGiB": 96,
    "name": "ml.c5.12xlarge",
    "vcpuNum": 48
   },
   {
    "_defaultOrder": 27,
    "_isFastLaunch": false,
    "category": "Compute optimized",
    "gpuNum": 0,
    "hideHardwareSpecs": false,
    "memoryGiB": 144,
    "name": "ml.c5.18xlarge",
    "vcpuNum": 72
   },
   {
    "_defaultOrder": 28,
    "_isFastLaunch": false,
    "category": "Compute optimized",
    "gpuNum": 0,
    "hideHardwareSpecs": false,
    "memoryGiB": 192,
    "name": "ml.c5.24xlarge",
    "vcpuNum": 96
   },
   {
    "_defaultOrder": 29,
    "_isFastLaunch": true,
    "category": "Accelerated computing",
    "gpuNum": 1,
    "hideHardwareSpecs": false,
    "memoryGiB": 16,
    "name": "ml.g4dn.xlarge",
    "vcpuNum": 4
   },
   {
    "_defaultOrder": 30,
    "_isFastLaunch": false,
    "category": "Accelerated computing",
    "gpuNum": 1,
    "hideHardwareSpecs": false,
    "memoryGiB": 32,
    "name": "ml.g4dn.2xlarge",
    "vcpuNum": 8
   },
   {
    "_defaultOrder": 31,
    "_isFastLaunch": false,
    "category": "Accelerated computing",
    "gpuNum": 1,
    "hideHardwareSpecs": false,
    "memoryGiB": 64,
    "name": "ml.g4dn.4xlarge",
    "vcpuNum": 16
   },
   {
    "_defaultOrder": 32,
    "_isFastLaunch": false,
    "category": "Accelerated computing",
    "gpuNum": 1,
    "hideHardwareSpecs": false,
    "memoryGiB": 128,
    "name": "ml.g4dn.8xlarge",
    "vcpuNum": 32
   },
   {
    "_defaultOrder": 33,
    "_isFastLaunch": false,
    "category": "Accelerated computing",
    "gpuNum": 4,
    "hideHardwareSpecs": false,
    "memoryGiB": 192,
    "name": "ml.g4dn.12xlarge",
    "vcpuNum": 48
   },
   {
    "_defaultOrder": 34,
    "_isFastLaunch": false,
    "category": "Accelerated computing",
    "gpuNum": 1,
    "hideHardwareSpecs": false,
    "memoryGiB": 256,
    "name": "ml.g4dn.16xlarge",
    "vcpuNum": 64
   },
   {
    "_defaultOrder": 35,
    "_isFastLaunch": false,
    "category": "Accelerated computing",
    "gpuNum": 1,
    "hideHardwareSpecs": false,
    "memoryGiB": 61,
    "name": "ml.p3.2xlarge",
    "vcpuNum": 8
   },
   {
    "_defaultOrder": 36,
    "_isFastLaunch": false,
    "category": "Accelerated computing",
    "gpuNum": 4,
    "hideHardwareSpecs": false,
    "memoryGiB": 244,
    "name": "ml.p3.8xlarge",
    "vcpuNum": 32
   },
   {
    "_defaultOrder": 37,
    "_isFastLaunch": false,
    "category": "Accelerated computing",
    "gpuNum": 8,
    "hideHardwareSpecs": false,
    "memoryGiB": 488,
    "name": "ml.p3.16xlarge",
    "vcpuNum": 64
   },
   {
    "_defaultOrder": 38,
    "_isFastLaunch": false,
    "category": "Accelerated computing",
    "gpuNum": 8,
    "hideHardwareSpecs": false,
    "memoryGiB": 768,
    "name": "ml.p3dn.24xlarge",
    "vcpuNum": 96
   },
   {
    "_defaultOrder": 39,
    "_isFastLaunch": false,
    "category": "Memory Optimized",
    "gpuNum": 0,
    "hideHardwareSpecs": false,
    "memoryGiB": 16,
    "name": "ml.r5.large",
    "vcpuNum": 2
   },
   {
    "_defaultOrder": 40,
    "_isFastLaunch": false,
    "category": "Memory Optimized",
    "gpuNum": 0,
    "hideHardwareSpecs": false,
    "memoryGiB": 32,
    "name": "ml.r5.xlarge",
    "vcpuNum": 4
   },
   {
    "_defaultOrder": 41,
    "_isFastLaunch": false,
    "category": "Memory Optimized",
    "gpuNum": 0,
    "hideHardwareSpecs": false,
    "memoryGiB": 64,
    "name": "ml.r5.2xlarge",
    "vcpuNum": 8
   },
   {
    "_defaultOrder": 42,
    "_isFastLaunch": false,
    "category": "Memory Optimized",
    "gpuNum": 0,
    "hideHardwareSpecs": false,
    "memoryGiB": 128,
    "name": "ml.r5.4xlarge",
    "vcpuNum": 16
   },
   {
    "_defaultOrder": 43,
    "_isFastLaunch": false,
    "category": "Memory Optimized",
    "gpuNum": 0,
    "hideHardwareSpecs": false,
    "memoryGiB": 256,
    "name": "ml.r5.8xlarge",
    "vcpuNum": 32
   },
   {
    "_defaultOrder": 44,
    "_isFastLaunch": false,
    "category": "Memory Optimized",
    "gpuNum": 0,
    "hideHardwareSpecs": false,
    "memoryGiB": 384,
    "name": "ml.r5.12xlarge",
    "vcpuNum": 48
   },
   {
    "_defaultOrder": 45,
    "_isFastLaunch": false,
    "category": "Memory Optimized",
    "gpuNum": 0,
    "hideHardwareSpecs": false,
    "memoryGiB": 512,
    "name": "ml.r5.16xlarge",
    "vcpuNum": 64
   },
   {
    "_defaultOrder": 46,
    "_isFastLaunch": false,
    "category": "Memory Optimized",
    "gpuNum": 0,
    "hideHardwareSpecs": false,
    "memoryGiB": 768,
    "name": "ml.r5.24xlarge",
    "vcpuNum": 96
   },
   {
    "_defaultOrder": 47,
    "_isFastLaunch": false,
    "category": "Accelerated computing",
    "gpuNum": 1,
    "hideHardwareSpecs": false,
    "memoryGiB": 16,
    "name": "ml.g5.xlarge",
    "vcpuNum": 4
   },
   {
    "_defaultOrder": 48,
    "_isFastLaunch": false,
    "category": "Accelerated computing",
    "gpuNum": 1,
    "hideHardwareSpecs": false,
    "memoryGiB": 32,
    "name": "ml.g5.2xlarge",
    "vcpuNum": 8
   },
   {
    "_defaultOrder": 49,
    "_isFastLaunch": false,
    "category": "Accelerated computing",
    "gpuNum": 1,
    "hideHardwareSpecs": false,
    "memoryGiB": 64,
    "name": "ml.g5.4xlarge",
    "vcpuNum": 16
   },
   {
    "_defaultOrder": 50,
    "_isFastLaunch": false,
    "category": "Accelerated computing",
    "gpuNum": 1,
    "hideHardwareSpecs": false,
    "memoryGiB": 128,
    "name": "ml.g5.8xlarge",
    "vcpuNum": 32
   },
   {
    "_defaultOrder": 51,
    "_isFastLaunch": false,
    "category": "Accelerated computing",
    "gpuNum": 1,
    "hideHardwareSpecs": false,
    "memoryGiB": 256,
    "name": "ml.g5.16xlarge",
    "vcpuNum": 64
   },
   {
    "_defaultOrder": 52,
    "_isFastLaunch": false,
    "category": "Accelerated computing",
    "gpuNum": 4,
    "hideHardwareSpecs": false,
    "memoryGiB": 192,
    "name": "ml.g5.12xlarge",
    "vcpuNum": 48
   },
   {
    "_defaultOrder": 53,
    "_isFastLaunch": false,
    "category": "Accelerated computing",
    "gpuNum": 4,
    "hideHardwareSpecs": false,
    "memoryGiB": 384,
    "name": "ml.g5.24xlarge",
    "vcpuNum": 96
   },
   {
    "_defaultOrder": 54,
    "_isFastLaunch": false,
    "category": "Accelerated computing",
    "gpuNum": 8,
    "hideHardwareSpecs": false,
    "memoryGiB": 768,
    "name": "ml.g5.48xlarge",
    "vcpuNum": 192
   },
   {
    "_defaultOrder": 55,
    "_isFastLaunch": false,
    "category": "Accelerated computing",
    "gpuNum": 8,
    "hideHardwareSpecs": false,
    "memoryGiB": 1152,
    "name": "ml.p4d.24xlarge",
    "vcpuNum": 96
   },
   {
    "_defaultOrder": 56,
    "_isFastLaunch": false,
    "category": "Accelerated computing",
    "gpuNum": 8,
    "hideHardwareSpecs": false,
    "memoryGiB": 1152,
    "name": "ml.p4de.24xlarge",
    "vcpuNum": 96
   }
  ],
  "kernelspec": {
   "display_name": "Python 3 (Data Science 3.0)",
   "language": "python",
   "name": "python3__SAGEMAKER_INTERNAL__arn:aws:sagemaker:us-east-1:081325390199:image/sagemaker-data-science-310-v1"
  },
  "language_info": {
   "codemirror_mode": {
    "name": "ipython",
    "version": 3
   },
   "file_extension": ".py",
   "mimetype": "text/x-python",
   "name": "python",
   "nbconvert_exporter": "python",
   "pygments_lexer": "ipython3",
   "version": "3.10.6"
  }
 },
 "nbformat": 4,
 "nbformat_minor": 5
}
